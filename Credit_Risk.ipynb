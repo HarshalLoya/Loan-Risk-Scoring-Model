{
 "cells": [
  {
   "cell_type": "code",
   "execution_count": 65,
   "id": "b6b4ad42",
   "metadata": {},
   "outputs": [],
   "source": [
    "# %pip install ace_tools_open"
   ]
  },
  {
   "cell_type": "code",
   "execution_count": 1,
   "id": "41cdb5b7-e089-4ac0-91cb-7d1df7e1880c",
   "metadata": {},
   "outputs": [],
   "source": [
    "import numpy as np\n",
    "import pandas as pd\n",
    "import matplotlib.pyplot as plt\n",
    "%matplotlib inline\n",
    "\n",
    "import seaborn as sns\n",
    "import plotly.graph_objects as go\n",
    "import plotly.express as px\n",
    "\n",
    "from sklearn.feature_selection import SelectFromModel, SelectKBest, chi2, f_classif\n",
    "from sklearn.ensemble import RandomForestClassifier\n",
    "from sklearn.compose import ColumnTransformer\n",
    "from sklearn.preprocessing import OrdinalEncoder, StandardScaler\n",
    "from sklearn.impute import SimpleImputer\n",
    "from sklearn.pipeline import Pipeline\n",
    "import ace_tools_open as tools\n",
    "\n",
    "import os"
   ]
  },
  {
   "cell_type": "code",
   "execution_count": 2,
   "id": "b36d8a4f",
   "metadata": {},
   "outputs": [],
   "source": [
    "np.random.seed(42)"
   ]
  },
  {
   "cell_type": "code",
   "execution_count": 3,
   "id": "bb2ee70d",
   "metadata": {},
   "outputs": [
    {
     "name": "stdout",
     "output_type": "stream",
     "text": [
      "Loaded the small data\n"
     ]
    }
   ],
   "source": [
    "if os.path.exists(\"small_data.csv\"):\n",
    "\tdf = pd.read_csv(\"small_data.csv\")\n",
    "\tprint(\"Loaded the small data\")\n",
    "else:\n",
    "\tdf = pd.read_csv(\"loan.csv\")\n",
    "\tprint(\"Loaded the orignal data\")"
   ]
  },
  {
   "cell_type": "code",
   "execution_count": 4,
   "id": "93a7b961-d0a2-4af3-95ba-5bd92632ea6b",
   "metadata": {},
   "outputs": [
    {
     "data": {
      "text/plain": [
       "['id',\n",
       " 'member_id',\n",
       " 'loan_amnt',\n",
       " 'funded_amnt',\n",
       " 'funded_amnt_inv',\n",
       " 'term',\n",
       " 'int_rate',\n",
       " 'installment',\n",
       " 'grade',\n",
       " 'sub_grade',\n",
       " 'emp_title',\n",
       " 'emp_length',\n",
       " 'home_ownership',\n",
       " 'annual_inc',\n",
       " 'verification_status',\n",
       " 'issue_d',\n",
       " 'loan_status',\n",
       " 'pymnt_plan',\n",
       " 'url',\n",
       " 'desc',\n",
       " 'purpose',\n",
       " 'title',\n",
       " 'zip_code',\n",
       " 'addr_state',\n",
       " 'dti',\n",
       " 'delinq_2yrs',\n",
       " 'earliest_cr_line',\n",
       " 'inq_last_6mths',\n",
       " 'mths_since_last_delinq',\n",
       " 'mths_since_last_record',\n",
       " 'open_acc',\n",
       " 'pub_rec',\n",
       " 'revol_bal',\n",
       " 'revol_util',\n",
       " 'total_acc',\n",
       " 'initial_list_status',\n",
       " 'out_prncp',\n",
       " 'out_prncp_inv',\n",
       " 'total_pymnt',\n",
       " 'total_pymnt_inv',\n",
       " 'total_rec_prncp',\n",
       " 'total_rec_int',\n",
       " 'total_rec_late_fee',\n",
       " 'recoveries',\n",
       " 'collection_recovery_fee',\n",
       " 'last_pymnt_d',\n",
       " 'last_pymnt_amnt',\n",
       " 'next_pymnt_d',\n",
       " 'last_credit_pull_d',\n",
       " 'collections_12_mths_ex_med',\n",
       " 'mths_since_last_major_derog',\n",
       " 'policy_code',\n",
       " 'application_type',\n",
       " 'annual_inc_joint',\n",
       " 'dti_joint',\n",
       " 'verification_status_joint',\n",
       " 'acc_now_delinq',\n",
       " 'tot_coll_amt',\n",
       " 'tot_cur_bal',\n",
       " 'open_acc_6m',\n",
       " 'open_act_il',\n",
       " 'open_il_12m',\n",
       " 'open_il_24m',\n",
       " 'mths_since_rcnt_il',\n",
       " 'total_bal_il',\n",
       " 'il_util',\n",
       " 'open_rv_12m',\n",
       " 'open_rv_24m',\n",
       " 'max_bal_bc',\n",
       " 'all_util',\n",
       " 'total_rev_hi_lim',\n",
       " 'inq_fi',\n",
       " 'total_cu_tl',\n",
       " 'inq_last_12m',\n",
       " 'acc_open_past_24mths',\n",
       " 'avg_cur_bal',\n",
       " 'bc_open_to_buy',\n",
       " 'bc_util',\n",
       " 'chargeoff_within_12_mths',\n",
       " 'delinq_amnt',\n",
       " 'mo_sin_old_il_acct',\n",
       " 'mo_sin_old_rev_tl_op',\n",
       " 'mo_sin_rcnt_rev_tl_op',\n",
       " 'mo_sin_rcnt_tl',\n",
       " 'mort_acc',\n",
       " 'mths_since_recent_bc',\n",
       " 'mths_since_recent_bc_dlq',\n",
       " 'mths_since_recent_inq',\n",
       " 'mths_since_recent_revol_delinq',\n",
       " 'num_accts_ever_120_pd',\n",
       " 'num_actv_bc_tl',\n",
       " 'num_actv_rev_tl',\n",
       " 'num_bc_sats',\n",
       " 'num_bc_tl',\n",
       " 'num_il_tl',\n",
       " 'num_op_rev_tl',\n",
       " 'num_rev_accts',\n",
       " 'num_rev_tl_bal_gt_0',\n",
       " 'num_sats',\n",
       " 'num_tl_120dpd_2m',\n",
       " 'num_tl_30dpd',\n",
       " 'num_tl_90g_dpd_24m',\n",
       " 'num_tl_op_past_12m',\n",
       " 'pct_tl_nvr_dlq',\n",
       " 'percent_bc_gt_75',\n",
       " 'pub_rec_bankruptcies',\n",
       " 'tax_liens',\n",
       " 'tot_hi_cred_lim',\n",
       " 'total_bal_ex_mort',\n",
       " 'total_bc_limit',\n",
       " 'total_il_high_credit_limit',\n",
       " 'revol_bal_joint',\n",
       " 'sec_app_earliest_cr_line',\n",
       " 'sec_app_inq_last_6mths',\n",
       " 'sec_app_mort_acc',\n",
       " 'sec_app_open_acc',\n",
       " 'sec_app_revol_util',\n",
       " 'sec_app_open_act_il',\n",
       " 'sec_app_num_rev_accts',\n",
       " 'sec_app_chargeoff_within_12_mths',\n",
       " 'sec_app_collections_12_mths_ex_med',\n",
       " 'sec_app_mths_since_last_major_derog',\n",
       " 'hardship_flag',\n",
       " 'hardship_type',\n",
       " 'hardship_reason',\n",
       " 'hardship_status',\n",
       " 'deferral_term',\n",
       " 'hardship_amount',\n",
       " 'hardship_start_date',\n",
       " 'hardship_end_date',\n",
       " 'payment_plan_start_date',\n",
       " 'hardship_length',\n",
       " 'hardship_dpd',\n",
       " 'hardship_loan_status',\n",
       " 'orig_projected_additional_accrued_interest',\n",
       " 'hardship_payoff_balance_amount',\n",
       " 'hardship_last_payment_amount',\n",
       " 'disbursement_method',\n",
       " 'debt_settlement_flag',\n",
       " 'debt_settlement_flag_date',\n",
       " 'settlement_status',\n",
       " 'settlement_date',\n",
       " 'settlement_amount',\n",
       " 'settlement_percentage',\n",
       " 'settlement_term']"
      ]
     },
     "execution_count": 4,
     "metadata": {},
     "output_type": "execute_result"
    }
   ],
   "source": [
    "list(df.columns)"
   ]
  },
  {
   "cell_type": "code",
   "execution_count": 5,
   "id": "d678d352",
   "metadata": {},
   "outputs": [
    {
     "data": {
      "text/html": [
       "<div>\n",
       "<style scoped>\n",
       "    .dataframe tbody tr th:only-of-type {\n",
       "        vertical-align: middle;\n",
       "    }\n",
       "\n",
       "    .dataframe tbody tr th {\n",
       "        vertical-align: top;\n",
       "    }\n",
       "\n",
       "    .dataframe thead th {\n",
       "        text-align: right;\n",
       "    }\n",
       "</style>\n",
       "<table border=\"1\" class=\"dataframe\">\n",
       "  <thead>\n",
       "    <tr style=\"text-align: right;\">\n",
       "      <th></th>\n",
       "      <th>id</th>\n",
       "      <th>member_id</th>\n",
       "      <th>loan_amnt</th>\n",
       "      <th>funded_amnt</th>\n",
       "      <th>funded_amnt_inv</th>\n",
       "      <th>int_rate</th>\n",
       "      <th>installment</th>\n",
       "      <th>annual_inc</th>\n",
       "      <th>url</th>\n",
       "      <th>dti</th>\n",
       "      <th>...</th>\n",
       "      <th>deferral_term</th>\n",
       "      <th>hardship_amount</th>\n",
       "      <th>hardship_length</th>\n",
       "      <th>hardship_dpd</th>\n",
       "      <th>orig_projected_additional_accrued_interest</th>\n",
       "      <th>hardship_payoff_balance_amount</th>\n",
       "      <th>hardship_last_payment_amount</th>\n",
       "      <th>settlement_amount</th>\n",
       "      <th>settlement_percentage</th>\n",
       "      <th>settlement_term</th>\n",
       "    </tr>\n",
       "  </thead>\n",
       "  <tbody>\n",
       "    <tr>\n",
       "      <th>count</th>\n",
       "      <td>0.0</td>\n",
       "      <td>0.0</td>\n",
       "      <td>200000.000000</td>\n",
       "      <td>200000.000000</td>\n",
       "      <td>200000.000000</td>\n",
       "      <td>200000.000000</td>\n",
       "      <td>200000.000000</td>\n",
       "      <td>2.000000e+05</td>\n",
       "      <td>0.0</td>\n",
       "      <td>199843.000000</td>\n",
       "      <td>...</td>\n",
       "      <td>942.0</td>\n",
       "      <td>942.000000</td>\n",
       "      <td>942.0</td>\n",
       "      <td>942.000000</td>\n",
       "      <td>739.000000</td>\n",
       "      <td>942.000000</td>\n",
       "      <td>942.000000</td>\n",
       "      <td>2916.000000</td>\n",
       "      <td>2916.000000</td>\n",
       "      <td>2916.000000</td>\n",
       "    </tr>\n",
       "    <tr>\n",
       "      <th>mean</th>\n",
       "      <td>NaN</td>\n",
       "      <td>NaN</td>\n",
       "      <td>15042.836625</td>\n",
       "      <td>15037.270875</td>\n",
       "      <td>15018.016696</td>\n",
       "      <td>13.092603</td>\n",
       "      <td>445.735626</td>\n",
       "      <td>7.792153e+04</td>\n",
       "      <td>NaN</td>\n",
       "      <td>18.813893</td>\n",
       "      <td>...</td>\n",
       "      <td>3.0</td>\n",
       "      <td>154.253960</td>\n",
       "      <td>3.0</td>\n",
       "      <td>13.897028</td>\n",
       "      <td>446.573058</td>\n",
       "      <td>11388.067887</td>\n",
       "      <td>188.206391</td>\n",
       "      <td>5077.059588</td>\n",
       "      <td>47.689222</td>\n",
       "      <td>13.170439</td>\n",
       "    </tr>\n",
       "    <tr>\n",
       "      <th>std</th>\n",
       "      <td>NaN</td>\n",
       "      <td>NaN</td>\n",
       "      <td>9171.962091</td>\n",
       "      <td>9169.706889</td>\n",
       "      <td>9174.064233</td>\n",
       "      <td>4.834885</td>\n",
       "      <td>266.772722</td>\n",
       "      <td>7.443695e+04</td>\n",
       "      <td>NaN</td>\n",
       "      <td>13.903082</td>\n",
       "      <td>...</td>\n",
       "      <td>0.0</td>\n",
       "      <td>122.933367</td>\n",
       "      <td>0.0</td>\n",
       "      <td>9.800833</td>\n",
       "      <td>353.359763</td>\n",
       "      <td>7194.548273</td>\n",
       "      <td>195.438886</td>\n",
       "      <td>3695.481612</td>\n",
       "      <td>6.797273</td>\n",
       "      <td>8.051768</td>\n",
       "    </tr>\n",
       "    <tr>\n",
       "      <th>min</th>\n",
       "      <td>NaN</td>\n",
       "      <td>NaN</td>\n",
       "      <td>500.000000</td>\n",
       "      <td>500.000000</td>\n",
       "      <td>0.000000</td>\n",
       "      <td>5.310000</td>\n",
       "      <td>15.910000</td>\n",
       "      <td>0.000000e+00</td>\n",
       "      <td>NaN</td>\n",
       "      <td>0.000000</td>\n",
       "      <td>...</td>\n",
       "      <td>3.0</td>\n",
       "      <td>5.360000</td>\n",
       "      <td>3.0</td>\n",
       "      <td>0.000000</td>\n",
       "      <td>16.080000</td>\n",
       "      <td>584.450000</td>\n",
       "      <td>0.010000</td>\n",
       "      <td>142.000000</td>\n",
       "      <td>18.920000</td>\n",
       "      <td>0.000000</td>\n",
       "    </tr>\n",
       "    <tr>\n",
       "      <th>25%</th>\n",
       "      <td>NaN</td>\n",
       "      <td>NaN</td>\n",
       "      <td>8000.000000</td>\n",
       "      <td>8000.000000</td>\n",
       "      <td>8000.000000</td>\n",
       "      <td>9.490000</td>\n",
       "      <td>252.140000</td>\n",
       "      <td>4.600000e+04</td>\n",
       "      <td>NaN</td>\n",
       "      <td>11.860000</td>\n",
       "      <td>...</td>\n",
       "      <td>3.0</td>\n",
       "      <td>61.950000</td>\n",
       "      <td>3.0</td>\n",
       "      <td>5.000000</td>\n",
       "      <td>181.290000</td>\n",
       "      <td>5777.497500</td>\n",
       "      <td>42.140000</td>\n",
       "      <td>2242.102500</td>\n",
       "      <td>45.000000</td>\n",
       "      <td>6.000000</td>\n",
       "    </tr>\n",
       "    <tr>\n",
       "      <th>50%</th>\n",
       "      <td>NaN</td>\n",
       "      <td>NaN</td>\n",
       "      <td>12950.000000</td>\n",
       "      <td>12900.000000</td>\n",
       "      <td>12800.000000</td>\n",
       "      <td>12.620000</td>\n",
       "      <td>377.510000</td>\n",
       "      <td>6.500000e+04</td>\n",
       "      <td>NaN</td>\n",
       "      <td>17.840000</td>\n",
       "      <td>...</td>\n",
       "      <td>3.0</td>\n",
       "      <td>120.220000</td>\n",
       "      <td>3.0</td>\n",
       "      <td>15.000000</td>\n",
       "      <td>349.860000</td>\n",
       "      <td>9843.650000</td>\n",
       "      <td>121.885000</td>\n",
       "      <td>4256.615000</td>\n",
       "      <td>45.000000</td>\n",
       "      <td>14.000000</td>\n",
       "    </tr>\n",
       "    <tr>\n",
       "      <th>75%</th>\n",
       "      <td>NaN</td>\n",
       "      <td>NaN</td>\n",
       "      <td>20000.000000</td>\n",
       "      <td>20000.000000</td>\n",
       "      <td>20000.000000</td>\n",
       "      <td>15.990000</td>\n",
       "      <td>592.110000</td>\n",
       "      <td>9.300000e+04</td>\n",
       "      <td>NaN</td>\n",
       "      <td>24.520000</td>\n",
       "      <td>...</td>\n",
       "      <td>3.0</td>\n",
       "      <td>216.302500</td>\n",
       "      <td>3.0</td>\n",
       "      <td>22.000000</td>\n",
       "      <td>623.715000</td>\n",
       "      <td>15767.637500</td>\n",
       "      <td>273.762500</td>\n",
       "      <td>7000.000000</td>\n",
       "      <td>50.000000</td>\n",
       "      <td>18.000000</td>\n",
       "    </tr>\n",
       "    <tr>\n",
       "      <th>max</th>\n",
       "      <td>NaN</td>\n",
       "      <td>NaN</td>\n",
       "      <td>40000.000000</td>\n",
       "      <td>40000.000000</td>\n",
       "      <td>40000.000000</td>\n",
       "      <td>30.990000</td>\n",
       "      <td>1618.240000</td>\n",
       "      <td>9.757200e+06</td>\n",
       "      <td>NaN</td>\n",
       "      <td>999.000000</td>\n",
       "      <td>...</td>\n",
       "      <td>3.0</td>\n",
       "      <td>825.570000</td>\n",
       "      <td>3.0</td>\n",
       "      <td>30.000000</td>\n",
       "      <td>2128.080000</td>\n",
       "      <td>36545.350000</td>\n",
       "      <td>1206.060000</td>\n",
       "      <td>27000.000000</td>\n",
       "      <td>100.000000</td>\n",
       "      <td>45.000000</td>\n",
       "    </tr>\n",
       "  </tbody>\n",
       "</table>\n",
       "<p>8 rows × 109 columns</p>\n",
       "</div>"
      ],
      "text/plain": [
       "        id  member_id      loan_amnt    funded_amnt  funded_amnt_inv  \\\n",
       "count  0.0        0.0  200000.000000  200000.000000    200000.000000   \n",
       "mean   NaN        NaN   15042.836625   15037.270875     15018.016696   \n",
       "std    NaN        NaN    9171.962091    9169.706889      9174.064233   \n",
       "min    NaN        NaN     500.000000     500.000000         0.000000   \n",
       "25%    NaN        NaN    8000.000000    8000.000000      8000.000000   \n",
       "50%    NaN        NaN   12950.000000   12900.000000     12800.000000   \n",
       "75%    NaN        NaN   20000.000000   20000.000000     20000.000000   \n",
       "max    NaN        NaN   40000.000000   40000.000000     40000.000000   \n",
       "\n",
       "            int_rate    installment    annual_inc  url            dti  ...  \\\n",
       "count  200000.000000  200000.000000  2.000000e+05  0.0  199843.000000  ...   \n",
       "mean       13.092603     445.735626  7.792153e+04  NaN      18.813893  ...   \n",
       "std         4.834885     266.772722  7.443695e+04  NaN      13.903082  ...   \n",
       "min         5.310000      15.910000  0.000000e+00  NaN       0.000000  ...   \n",
       "25%         9.490000     252.140000  4.600000e+04  NaN      11.860000  ...   \n",
       "50%        12.620000     377.510000  6.500000e+04  NaN      17.840000  ...   \n",
       "75%        15.990000     592.110000  9.300000e+04  NaN      24.520000  ...   \n",
       "max        30.990000    1618.240000  9.757200e+06  NaN     999.000000  ...   \n",
       "\n",
       "       deferral_term  hardship_amount  hardship_length  hardship_dpd  \\\n",
       "count          942.0       942.000000            942.0    942.000000   \n",
       "mean             3.0       154.253960              3.0     13.897028   \n",
       "std              0.0       122.933367              0.0      9.800833   \n",
       "min              3.0         5.360000              3.0      0.000000   \n",
       "25%              3.0        61.950000              3.0      5.000000   \n",
       "50%              3.0       120.220000              3.0     15.000000   \n",
       "75%              3.0       216.302500              3.0     22.000000   \n",
       "max              3.0       825.570000              3.0     30.000000   \n",
       "\n",
       "       orig_projected_additional_accrued_interest  \\\n",
       "count                                  739.000000   \n",
       "mean                                   446.573058   \n",
       "std                                    353.359763   \n",
       "min                                     16.080000   \n",
       "25%                                    181.290000   \n",
       "50%                                    349.860000   \n",
       "75%                                    623.715000   \n",
       "max                                   2128.080000   \n",
       "\n",
       "       hardship_payoff_balance_amount  hardship_last_payment_amount  \\\n",
       "count                      942.000000                    942.000000   \n",
       "mean                     11388.067887                    188.206391   \n",
       "std                       7194.548273                    195.438886   \n",
       "min                        584.450000                      0.010000   \n",
       "25%                       5777.497500                     42.140000   \n",
       "50%                       9843.650000                    121.885000   \n",
       "75%                      15767.637500                    273.762500   \n",
       "max                      36545.350000                   1206.060000   \n",
       "\n",
       "       settlement_amount  settlement_percentage  settlement_term  \n",
       "count        2916.000000            2916.000000      2916.000000  \n",
       "mean         5077.059588              47.689222        13.170439  \n",
       "std          3695.481612               6.797273         8.051768  \n",
       "min           142.000000              18.920000         0.000000  \n",
       "25%          2242.102500              45.000000         6.000000  \n",
       "50%          4256.615000              45.000000        14.000000  \n",
       "75%          7000.000000              50.000000        18.000000  \n",
       "max         27000.000000             100.000000        45.000000  \n",
       "\n",
       "[8 rows x 109 columns]"
      ]
     },
     "execution_count": 5,
     "metadata": {},
     "output_type": "execute_result"
    }
   ],
   "source": [
    "df.describe()"
   ]
  },
  {
   "cell_type": "code",
   "execution_count": 6,
   "id": "2ec0c42c",
   "metadata": {},
   "outputs": [
    {
     "name": "stdout",
     "output_type": "stream",
     "text": [
      "<class 'pandas.core.frame.DataFrame'>\n",
      "RangeIndex: 200000 entries, 0 to 199999\n",
      "Data columns (total 145 columns):\n",
      " #    Column                                      Non-Null Count   Dtype  \n",
      "---   ------                                      --------------   -----  \n",
      " 0    id                                          0 non-null       float64\n",
      " 1    member_id                                   0 non-null       float64\n",
      " 2    loan_amnt                                   200000 non-null  int64  \n",
      " 3    funded_amnt                                 200000 non-null  int64  \n",
      " 4    funded_amnt_inv                             200000 non-null  float64\n",
      " 5    term                                        200000 non-null  object \n",
      " 6    int_rate                                    200000 non-null  float64\n",
      " 7    installment                                 200000 non-null  float64\n",
      " 8    grade                                       200000 non-null  object \n",
      " 9    sub_grade                                   200000 non-null  object \n",
      " 10   emp_title                                   185344 non-null  object \n",
      " 11   emp_length                                  187103 non-null  object \n",
      " 12   home_ownership                              200000 non-null  object \n",
      " 13   annual_inc                                  200000 non-null  float64\n",
      " 14   verification_status                         200000 non-null  object \n",
      " 15   issue_d                                     200000 non-null  object \n",
      " 16   loan_status                                 200000 non-null  object \n",
      " 17   pymnt_plan                                  200000 non-null  object \n",
      " 18   url                                         0 non-null       float64\n",
      " 19   desc                                        11209 non-null   object \n",
      " 20   purpose                                     200000 non-null  object \n",
      " 21   title                                       197831 non-null  object \n",
      " 22   zip_code                                    199999 non-null  object \n",
      " 23   addr_state                                  200000 non-null  object \n",
      " 24   dti                                         199843 non-null  float64\n",
      " 25   delinq_2yrs                                 199996 non-null  float64\n",
      " 26   earliest_cr_line                            199996 non-null  object \n",
      " 27   inq_last_6mths                              199996 non-null  float64\n",
      " 28   mths_since_last_delinq                      97524 non-null   float64\n",
      " 29   mths_since_last_record                      31709 non-null   float64\n",
      " 30   open_acc                                    199996 non-null  float64\n",
      " 31   pub_rec                                     199996 non-null  float64\n",
      " 32   revol_bal                                   200000 non-null  int64  \n",
      " 33   revol_util                                  199840 non-null  float64\n",
      " 34   total_acc                                   199996 non-null  float64\n",
      " 35   initial_list_status                         200000 non-null  object \n",
      " 36   out_prncp                                   200000 non-null  float64\n",
      " 37   out_prncp_inv                               200000 non-null  float64\n",
      " 38   total_pymnt                                 200000 non-null  float64\n",
      " 39   total_pymnt_inv                             200000 non-null  float64\n",
      " 40   total_rec_prncp                             200000 non-null  float64\n",
      " 41   total_rec_int                               200000 non-null  float64\n",
      " 42   total_rec_late_fee                          200000 non-null  float64\n",
      " 43   recoveries                                  200000 non-null  float64\n",
      " 44   collection_recovery_fee                     200000 non-null  float64\n",
      " 45   last_pymnt_d                                199771 non-null  object \n",
      " 46   last_pymnt_amnt                             200000 non-null  float64\n",
      " 47   next_pymnt_d                                84695 non-null   object \n",
      " 48   last_credit_pull_d                          199994 non-null  object \n",
      " 49   collections_12_mths_ex_med                  199982 non-null  float64\n",
      " 50   mths_since_last_major_derog                 51119 non-null   float64\n",
      " 51   policy_code                                 200000 non-null  int64  \n",
      " 52   application_type                            200000 non-null  object \n",
      " 53   annual_inc_joint                            10625 non-null   float64\n",
      " 54   dti_joint                                   10625 non-null   float64\n",
      " 55   verification_status_joint                   10196 non-null   object \n",
      " 56   acc_now_delinq                              199996 non-null  float64\n",
      " 57   tot_coll_amt                                193774 non-null  float64\n",
      " 58   tot_cur_bal                                 193774 non-null  float64\n",
      " 59   open_acc_6m                                 123337 non-null  float64\n",
      " 60   open_act_il                                 123337 non-null  float64\n",
      " 61   open_il_12m                                 123337 non-null  float64\n",
      " 62   open_il_24m                                 123337 non-null  float64\n",
      " 63   mths_since_rcnt_il                          119514 non-null  float64\n",
      " 64   total_bal_il                                123337 non-null  float64\n",
      " 65   il_util                                     105417 non-null  float64\n",
      " 66   open_rv_12m                                 123337 non-null  float64\n",
      " 67   open_rv_24m                                 123337 non-null  float64\n",
      " 68   max_bal_bc                                  123337 non-null  float64\n",
      " 69   all_util                                    123318 non-null  float64\n",
      " 70   total_rev_hi_lim                            193774 non-null  float64\n",
      " 71   inq_fi                                      123337 non-null  float64\n",
      " 72   total_cu_tl                                 123337 non-null  float64\n",
      " 73   inq_last_12m                                123337 non-null  float64\n",
      " 74   acc_open_past_24mths                        195508 non-null  float64\n",
      " 75   avg_cur_bal                                 193769 non-null  float64\n",
      " 76   bc_open_to_buy                              193280 non-null  float64\n",
      " 77   bc_util                                     193189 non-null  float64\n",
      " 78   chargeoff_within_12_mths                    199982 non-null  float64\n",
      " 79   delinq_amnt                                 199996 non-null  float64\n",
      " 80   mo_sin_old_il_acct                          187735 non-null  float64\n",
      " 81   mo_sin_old_rev_tl_op                        193774 non-null  float64\n",
      " 82   mo_sin_rcnt_rev_tl_op                       193774 non-null  float64\n",
      " 83   mo_sin_rcnt_tl                              193774 non-null  float64\n",
      " 84   mort_acc                                    195508 non-null  float64\n",
      " 85   mths_since_recent_bc                        193429 non-null  float64\n",
      " 86   mths_since_recent_bc_dlq                    45905 non-null   float64\n",
      " 87   mths_since_recent_inq                       173635 non-null  float64\n",
      " 88   mths_since_recent_revol_delinq              65623 non-null   float64\n",
      " 89   num_accts_ever_120_pd                       193774 non-null  float64\n",
      " 90   num_actv_bc_tl                              193774 non-null  float64\n",
      " 91   num_actv_rev_tl                             193774 non-null  float64\n",
      " 92   num_bc_sats                                 194767 non-null  float64\n",
      " 93   num_bc_tl                                   193774 non-null  float64\n",
      " 94   num_il_tl                                   193774 non-null  float64\n",
      " 95   num_op_rev_tl                               193774 non-null  float64\n",
      " 96   num_rev_accts                               193774 non-null  float64\n",
      " 97   num_rev_tl_bal_gt_0                         193774 non-null  float64\n",
      " 98   num_sats                                    194767 non-null  float64\n",
      " 99   num_tl_120dpd_2m                            186513 non-null  float64\n",
      " 100  num_tl_30dpd                                193774 non-null  float64\n",
      " 101  num_tl_90g_dpd_24m                          193774 non-null  float64\n",
      " 102  num_tl_op_past_12m                          193774 non-null  float64\n",
      " 103  pct_tl_nvr_dlq                              193755 non-null  float64\n",
      " 104  percent_bc_gt_75                            193253 non-null  float64\n",
      " 105  pub_rec_bankruptcies                        199855 non-null  float64\n",
      " 106  tax_liens                                   199984 non-null  float64\n",
      " 107  tot_hi_cred_lim                             193774 non-null  float64\n",
      " 108  total_bal_ex_mort                           195508 non-null  float64\n",
      " 109  total_bc_limit                              195508 non-null  float64\n",
      " 110  total_il_high_credit_limit                  193774 non-null  float64\n",
      " 111  revol_bal_joint                             9498 non-null    float64\n",
      " 112  sec_app_earliest_cr_line                    9498 non-null    object \n",
      " 113  sec_app_inq_last_6mths                      9498 non-null    float64\n",
      " 114  sec_app_mort_acc                            9498 non-null    float64\n",
      " 115  sec_app_open_acc                            9498 non-null    float64\n",
      " 116  sec_app_revol_util                          9340 non-null    float64\n",
      " 117  sec_app_open_act_il                         9498 non-null    float64\n",
      " 118  sec_app_num_rev_accts                       9498 non-null    float64\n",
      " 119  sec_app_chargeoff_within_12_mths            9498 non-null    float64\n",
      " 120  sec_app_collections_12_mths_ex_med          9498 non-null    float64\n",
      " 121  sec_app_mths_since_last_major_derog         3197 non-null    float64\n",
      " 122  hardship_flag                               200000 non-null  object \n",
      " 123  hardship_type                               942 non-null     object \n",
      " 124  hardship_reason                             942 non-null     object \n",
      " 125  hardship_status                             942 non-null     object \n",
      " 126  deferral_term                               942 non-null     float64\n",
      " 127  hardship_amount                             942 non-null     float64\n",
      " 128  hardship_start_date                         942 non-null     object \n",
      " 129  hardship_end_date                           942 non-null     object \n",
      " 130  payment_plan_start_date                     942 non-null     object \n",
      " 131  hardship_length                             942 non-null     float64\n",
      " 132  hardship_dpd                                942 non-null     float64\n",
      " 133  hardship_loan_status                        942 non-null     object \n",
      " 134  orig_projected_additional_accrued_interest  739 non-null     float64\n",
      " 135  hardship_payoff_balance_amount              942 non-null     float64\n",
      " 136  hardship_last_payment_amount                942 non-null     float64\n",
      " 137  disbursement_method                         200000 non-null  object \n",
      " 138  debt_settlement_flag                        200000 non-null  object \n",
      " 139  debt_settlement_flag_date                   2916 non-null    object \n",
      " 140  settlement_status                           2916 non-null    object \n",
      " 141  settlement_date                             2916 non-null    object \n",
      " 142  settlement_amount                           2916 non-null    float64\n",
      " 143  settlement_percentage                       2916 non-null    float64\n",
      " 144  settlement_term                             2916 non-null    float64\n",
      "dtypes: float64(105), int64(4), object(36)\n",
      "memory usage: 221.3+ MB\n"
     ]
    }
   ],
   "source": [
    "df.info(verbose=True, show_counts=True)"
   ]
  },
  {
   "cell_type": "code",
   "execution_count": 7,
   "id": "ba277bed",
   "metadata": {},
   "outputs": [
    {
     "data": {
      "text/plain": [
       "id                                            100.0000\n",
       "url                                           100.0000\n",
       "member_id                                     100.0000\n",
       "orig_projected_additional_accrued_interest     99.6305\n",
       "hardship_length                                99.5290\n",
       "                                                ...   \n",
       "out_prncp_inv                                   0.0000\n",
       "out_prncp                                       0.0000\n",
       "initial_list_status                             0.0000\n",
       "hardship_flag                                   0.0000\n",
       "addr_state                                      0.0000\n",
       "Length: 145, dtype: float64"
      ]
     },
     "execution_count": 7,
     "metadata": {},
     "output_type": "execute_result"
    }
   ],
   "source": [
    "null_percentages = df.isna().mean().mul(100).sort_values(ascending=False)\n",
    "null_percentages"
   ]
  },
  {
   "cell_type": "code",
   "execution_count": 8,
   "id": "3d7c91f7",
   "metadata": {},
   "outputs": [
    {
     "data": {
      "text/plain": [
       "0"
      ]
     },
     "execution_count": 8,
     "metadata": {},
     "output_type": "execute_result"
    }
   ],
   "source": [
    "df.duplicated().sum()"
   ]
  },
  {
   "cell_type": "code",
   "execution_count": 9,
   "id": "5389fcc4",
   "metadata": {},
   "outputs": [],
   "source": [
    "df.drop(columns=['id', 'url', 'member_id'], inplace=True)"
   ]
  },
  {
   "cell_type": "code",
   "execution_count": 10,
   "id": "ea2daf32",
   "metadata": {},
   "outputs": [
    {
     "data": {
      "application/vnd.plotly.v1+json": {
       "config": {
        "plotlyServerURL": "https://plot.ly"
       },
       "data": [
        {
         "marker": {
          "color": "red",
          "line": {
           "color": "darkred",
           "width": 1
          }
         },
         "text": [
          "100.0%",
          "100.0%",
          "100.0%",
          "99.6%",
          "99.5%",
          "99.5%",
          "99.5%",
          "99.5%",
          "99.5%",
          "99.5%",
          "99.5%",
          "99.5%",
          "99.5%",
          "99.5%",
          "99.5%",
          "99.5%",
          "99.5%",
          "98.5%",
          "98.5%",
          "98.5%",
          "98.5%",
          "98.5%",
          "98.5%",
          "98.4%",
          "95.3%",
          "95.3%",
          "95.3%",
          "95.3%",
          "95.3%",
          "95.3%",
          "95.3%",
          "95.3%",
          "95.3%",
          "95.3%",
          "94.9%",
          "94.7%",
          "94.7%",
          "94.4%",
          "84.1%",
          "77.0%",
          "74.4%",
          "67.2%",
          "57.7%",
          "51.2%",
          "47.3%",
          "40.2%",
          "38.3%",
          "38.3%",
          "38.3%",
          "38.3%",
          "38.3%",
          "38.3%",
          "38.3%",
          "38.3%",
          "38.3%",
          "38.3%",
          "38.3%",
          "38.3%",
          "13.2%",
          "7.3%",
          "6.7%",
          "6.4%",
          "6.1%",
          "3.4%",
          "3.4%",
          "3.4%",
          "3.3%",
          "3.1%",
          "3.1%",
          "3.1%",
          "3.1%",
          "3.1%",
          "3.1%",
          "3.1%",
          "3.1%",
          "3.1%",
          "3.1%",
          "3.1%",
          "3.1%",
          "3.1%",
          "3.1%",
          "3.1%",
          "3.1%",
          "3.1%",
          "3.1%",
          "3.1%",
          "3.1%",
          "3.1%",
          "2.6%",
          "2.6%",
          "2.2%",
          "2.2%",
          "2.2%",
          "2.2%",
          "1.1%",
          "0.1%",
          "0.1%",
          "0.1%",
          "0.1%",
          "0.0%",
          "0.0%",
          "0.0%",
          "0.0%",
          "0.0%",
          "0.0%",
          "0.0%",
          "0.0%",
          "0.0%",
          "0.0%",
          "0.0%",
          "0.0%",
          "0.0%",
          "0.0%",
          "0.0%",
          "0.0%",
          "0.0%",
          "0.0%",
          "0.0%",
          "0.0%",
          "0.0%",
          "0.0%",
          "0.0%",
          "0.0%",
          "0.0%",
          "0.0%",
          "0.0%",
          "0.0%",
          "0.0%",
          "0.0%",
          "0.0%",
          "0.0%",
          "0.0%",
          "0.0%",
          "0.0%",
          "0.0%",
          "0.0%",
          "0.0%",
          "0.0%",
          "0.0%",
          "0.0%",
          "0.0%",
          "0.0%",
          "0.0%",
          "0.0%",
          "0.0%"
         ],
         "textposition": "outside",
         "type": "bar",
         "x": [
          "id",
          "url",
          "member_id",
          "orig_projected_additional_accrued_interest",
          "hardship_length",
          "hardship_reason",
          "hardship_status",
          "deferral_term",
          "hardship_amount",
          "hardship_start_date",
          "hardship_end_date",
          "payment_plan_start_date",
          "hardship_dpd",
          "hardship_loan_status",
          "hardship_payoff_balance_amount",
          "hardship_last_payment_amount",
          "hardship_type",
          "debt_settlement_flag_date",
          "settlement_status",
          "settlement_date",
          "settlement_amount",
          "settlement_percentage",
          "settlement_term",
          "sec_app_mths_since_last_major_derog",
          "sec_app_revol_util",
          "revol_bal_joint",
          "sec_app_chargeoff_within_12_mths",
          "sec_app_inq_last_6mths",
          "sec_app_mort_acc",
          "sec_app_open_acc",
          "sec_app_open_act_il",
          "sec_app_num_rev_accts",
          "sec_app_collections_12_mths_ex_med",
          "sec_app_earliest_cr_line",
          "verification_status_joint",
          "annual_inc_joint",
          "dti_joint",
          "desc",
          "mths_since_last_record",
          "mths_since_recent_bc_dlq",
          "mths_since_last_major_derog",
          "mths_since_recent_revol_delinq",
          "next_pymnt_d",
          "mths_since_last_delinq",
          "il_util",
          "mths_since_rcnt_il",
          "all_util",
          "max_bal_bc",
          "open_rv_24m",
          "open_rv_12m",
          "open_acc_6m",
          "total_bal_il",
          "open_il_24m",
          "open_il_12m",
          "inq_fi",
          "inq_last_12m",
          "open_act_il",
          "total_cu_tl",
          "mths_since_recent_inq",
          "emp_title",
          "num_tl_120dpd_2m",
          "emp_length",
          "mo_sin_old_il_acct",
          "bc_util",
          "percent_bc_gt_75",
          "bc_open_to_buy",
          "mths_since_recent_bc",
          "pct_tl_nvr_dlq",
          "avg_cur_bal",
          "mo_sin_rcnt_rev_tl_op",
          "num_accts_ever_120_pd",
          "num_actv_bc_tl",
          "num_bc_tl",
          "num_il_tl",
          "mo_sin_rcnt_tl",
          "num_op_rev_tl",
          "mo_sin_old_rev_tl_op",
          "tot_coll_amt",
          "num_rev_accts",
          "num_rev_tl_bal_gt_0",
          "total_rev_hi_lim",
          "tot_cur_bal",
          "num_tl_30dpd",
          "num_tl_90g_dpd_24m",
          "num_tl_op_past_12m",
          "tot_hi_cred_lim",
          "total_il_high_credit_limit",
          "num_actv_rev_tl",
          "num_bc_sats",
          "num_sats",
          "total_bal_ex_mort",
          "total_bc_limit",
          "mort_acc",
          "acc_open_past_24mths",
          "title",
          "last_pymnt_d",
          "revol_util",
          "dti",
          "pub_rec_bankruptcies",
          "collections_12_mths_ex_med",
          "chargeoff_within_12_mths",
          "tax_liens",
          "last_credit_pull_d",
          "open_acc",
          "total_acc",
          "delinq_amnt",
          "pub_rec",
          "acc_now_delinq",
          "inq_last_6mths",
          "earliest_cr_line",
          "delinq_2yrs",
          "zip_code",
          "annual_inc",
          "verification_status",
          "home_ownership",
          "disbursement_method",
          "sub_grade",
          "grade",
          "installment",
          "loan_status",
          "debt_settlement_flag",
          "int_rate",
          "term",
          "funded_amnt_inv",
          "funded_amnt",
          "loan_amnt",
          "issue_d",
          "revol_bal",
          "pymnt_plan",
          "total_rec_int",
          "application_type",
          "policy_code",
          "last_pymnt_amnt",
          "collection_recovery_fee",
          "recoveries",
          "total_rec_late_fee",
          "total_rec_prncp",
          "purpose",
          "total_pymnt_inv",
          "total_pymnt",
          "out_prncp_inv",
          "out_prncp",
          "initial_list_status",
          "hardship_flag",
          "addr_state"
         ],
         "y": [
          100,
          100,
          100,
          99.6305,
          99.529,
          99.529,
          99.529,
          99.529,
          99.529,
          99.529,
          99.529,
          99.529,
          99.529,
          99.529,
          99.529,
          99.529,
          99.529,
          98.542,
          98.542,
          98.542,
          98.542,
          98.542,
          98.542,
          98.4015,
          95.33,
          95.25099999999999,
          95.25099999999999,
          95.25099999999999,
          95.25099999999999,
          95.25099999999999,
          95.25099999999999,
          95.25099999999999,
          95.25099999999999,
          95.25099999999999,
          94.902,
          94.6875,
          94.6875,
          94.3955,
          84.1455,
          77.0475,
          74.4405,
          67.18849999999999,
          57.652499999999996,
          51.23799999999999,
          47.2915,
          40.243,
          38.340999999999994,
          38.3315,
          38.3315,
          38.3315,
          38.3315,
          38.3315,
          38.3315,
          38.3315,
          38.3315,
          38.3315,
          38.3315,
          38.3315,
          13.1825,
          7.327999999999999,
          6.743499999999999,
          6.4485,
          6.132499999999999,
          3.4055,
          3.3735,
          3.36,
          3.2855000000000003,
          3.1225,
          3.1155,
          3.113,
          3.113,
          3.113,
          3.113,
          3.113,
          3.113,
          3.113,
          3.113,
          3.113,
          3.113,
          3.113,
          3.113,
          3.113,
          3.113,
          3.113,
          3.113,
          3.113,
          3.113,
          3.113,
          2.6165000000000003,
          2.6165000000000003,
          2.246,
          2.246,
          2.246,
          2.246,
          1.0845,
          0.11449999999999999,
          0.08,
          0.0785,
          0.0725,
          0.009000000000000001,
          0.009000000000000001,
          0.008,
          0.003,
          0.002,
          0.002,
          0.002,
          0.002,
          0.002,
          0.002,
          0.002,
          0.002,
          0.0005,
          0,
          0,
          0,
          0,
          0,
          0,
          0,
          0,
          0,
          0,
          0,
          0,
          0,
          0,
          0,
          0,
          0,
          0,
          0,
          0,
          0,
          0,
          0,
          0,
          0,
          0,
          0,
          0,
          0,
          0,
          0,
          0,
          0
         ]
        }
       ],
       "layout": {
        "bargap": 0.2,
        "font": {
         "size": 12
        },
        "height": 720,
        "showlegend": false,
        "template": {
         "data": {
          "bar": [
           {
            "error_x": {
             "color": "#2a3f5f"
            },
            "error_y": {
             "color": "#2a3f5f"
            },
            "marker": {
             "line": {
              "color": "#E5ECF6",
              "width": 0.5
             },
             "pattern": {
              "fillmode": "overlay",
              "size": 10,
              "solidity": 0.2
             }
            },
            "type": "bar"
           }
          ],
          "barpolar": [
           {
            "marker": {
             "line": {
              "color": "#E5ECF6",
              "width": 0.5
             },
             "pattern": {
              "fillmode": "overlay",
              "size": 10,
              "solidity": 0.2
             }
            },
            "type": "barpolar"
           }
          ],
          "carpet": [
           {
            "aaxis": {
             "endlinecolor": "#2a3f5f",
             "gridcolor": "white",
             "linecolor": "white",
             "minorgridcolor": "white",
             "startlinecolor": "#2a3f5f"
            },
            "baxis": {
             "endlinecolor": "#2a3f5f",
             "gridcolor": "white",
             "linecolor": "white",
             "minorgridcolor": "white",
             "startlinecolor": "#2a3f5f"
            },
            "type": "carpet"
           }
          ],
          "choropleth": [
           {
            "colorbar": {
             "outlinewidth": 0,
             "ticks": ""
            },
            "type": "choropleth"
           }
          ],
          "contour": [
           {
            "colorbar": {
             "outlinewidth": 0,
             "ticks": ""
            },
            "colorscale": [
             [
              0,
              "#0d0887"
             ],
             [
              0.1111111111111111,
              "#46039f"
             ],
             [
              0.2222222222222222,
              "#7201a8"
             ],
             [
              0.3333333333333333,
              "#9c179e"
             ],
             [
              0.4444444444444444,
              "#bd3786"
             ],
             [
              0.5555555555555556,
              "#d8576b"
             ],
             [
              0.6666666666666666,
              "#ed7953"
             ],
             [
              0.7777777777777778,
              "#fb9f3a"
             ],
             [
              0.8888888888888888,
              "#fdca26"
             ],
             [
              1,
              "#f0f921"
             ]
            ],
            "type": "contour"
           }
          ],
          "contourcarpet": [
           {
            "colorbar": {
             "outlinewidth": 0,
             "ticks": ""
            },
            "type": "contourcarpet"
           }
          ],
          "heatmap": [
           {
            "colorbar": {
             "outlinewidth": 0,
             "ticks": ""
            },
            "colorscale": [
             [
              0,
              "#0d0887"
             ],
             [
              0.1111111111111111,
              "#46039f"
             ],
             [
              0.2222222222222222,
              "#7201a8"
             ],
             [
              0.3333333333333333,
              "#9c179e"
             ],
             [
              0.4444444444444444,
              "#bd3786"
             ],
             [
              0.5555555555555556,
              "#d8576b"
             ],
             [
              0.6666666666666666,
              "#ed7953"
             ],
             [
              0.7777777777777778,
              "#fb9f3a"
             ],
             [
              0.8888888888888888,
              "#fdca26"
             ],
             [
              1,
              "#f0f921"
             ]
            ],
            "type": "heatmap"
           }
          ],
          "heatmapgl": [
           {
            "colorbar": {
             "outlinewidth": 0,
             "ticks": ""
            },
            "colorscale": [
             [
              0,
              "#0d0887"
             ],
             [
              0.1111111111111111,
              "#46039f"
             ],
             [
              0.2222222222222222,
              "#7201a8"
             ],
             [
              0.3333333333333333,
              "#9c179e"
             ],
             [
              0.4444444444444444,
              "#bd3786"
             ],
             [
              0.5555555555555556,
              "#d8576b"
             ],
             [
              0.6666666666666666,
              "#ed7953"
             ],
             [
              0.7777777777777778,
              "#fb9f3a"
             ],
             [
              0.8888888888888888,
              "#fdca26"
             ],
             [
              1,
              "#f0f921"
             ]
            ],
            "type": "heatmapgl"
           }
          ],
          "histogram": [
           {
            "marker": {
             "pattern": {
              "fillmode": "overlay",
              "size": 10,
              "solidity": 0.2
             }
            },
            "type": "histogram"
           }
          ],
          "histogram2d": [
           {
            "colorbar": {
             "outlinewidth": 0,
             "ticks": ""
            },
            "colorscale": [
             [
              0,
              "#0d0887"
             ],
             [
              0.1111111111111111,
              "#46039f"
             ],
             [
              0.2222222222222222,
              "#7201a8"
             ],
             [
              0.3333333333333333,
              "#9c179e"
             ],
             [
              0.4444444444444444,
              "#bd3786"
             ],
             [
              0.5555555555555556,
              "#d8576b"
             ],
             [
              0.6666666666666666,
              "#ed7953"
             ],
             [
              0.7777777777777778,
              "#fb9f3a"
             ],
             [
              0.8888888888888888,
              "#fdca26"
             ],
             [
              1,
              "#f0f921"
             ]
            ],
            "type": "histogram2d"
           }
          ],
          "histogram2dcontour": [
           {
            "colorbar": {
             "outlinewidth": 0,
             "ticks": ""
            },
            "colorscale": [
             [
              0,
              "#0d0887"
             ],
             [
              0.1111111111111111,
              "#46039f"
             ],
             [
              0.2222222222222222,
              "#7201a8"
             ],
             [
              0.3333333333333333,
              "#9c179e"
             ],
             [
              0.4444444444444444,
              "#bd3786"
             ],
             [
              0.5555555555555556,
              "#d8576b"
             ],
             [
              0.6666666666666666,
              "#ed7953"
             ],
             [
              0.7777777777777778,
              "#fb9f3a"
             ],
             [
              0.8888888888888888,
              "#fdca26"
             ],
             [
              1,
              "#f0f921"
             ]
            ],
            "type": "histogram2dcontour"
           }
          ],
          "mesh3d": [
           {
            "colorbar": {
             "outlinewidth": 0,
             "ticks": ""
            },
            "type": "mesh3d"
           }
          ],
          "parcoords": [
           {
            "line": {
             "colorbar": {
              "outlinewidth": 0,
              "ticks": ""
             }
            },
            "type": "parcoords"
           }
          ],
          "pie": [
           {
            "automargin": true,
            "type": "pie"
           }
          ],
          "scatter": [
           {
            "fillpattern": {
             "fillmode": "overlay",
             "size": 10,
             "solidity": 0.2
            },
            "type": "scatter"
           }
          ],
          "scatter3d": [
           {
            "line": {
             "colorbar": {
              "outlinewidth": 0,
              "ticks": ""
             }
            },
            "marker": {
             "colorbar": {
              "outlinewidth": 0,
              "ticks": ""
             }
            },
            "type": "scatter3d"
           }
          ],
          "scattercarpet": [
           {
            "marker": {
             "colorbar": {
              "outlinewidth": 0,
              "ticks": ""
             }
            },
            "type": "scattercarpet"
           }
          ],
          "scattergeo": [
           {
            "marker": {
             "colorbar": {
              "outlinewidth": 0,
              "ticks": ""
             }
            },
            "type": "scattergeo"
           }
          ],
          "scattergl": [
           {
            "marker": {
             "colorbar": {
              "outlinewidth": 0,
              "ticks": ""
             }
            },
            "type": "scattergl"
           }
          ],
          "scattermapbox": [
           {
            "marker": {
             "colorbar": {
              "outlinewidth": 0,
              "ticks": ""
             }
            },
            "type": "scattermapbox"
           }
          ],
          "scatterpolar": [
           {
            "marker": {
             "colorbar": {
              "outlinewidth": 0,
              "ticks": ""
             }
            },
            "type": "scatterpolar"
           }
          ],
          "scatterpolargl": [
           {
            "marker": {
             "colorbar": {
              "outlinewidth": 0,
              "ticks": ""
             }
            },
            "type": "scatterpolargl"
           }
          ],
          "scatterternary": [
           {
            "marker": {
             "colorbar": {
              "outlinewidth": 0,
              "ticks": ""
             }
            },
            "type": "scatterternary"
           }
          ],
          "surface": [
           {
            "colorbar": {
             "outlinewidth": 0,
             "ticks": ""
            },
            "colorscale": [
             [
              0,
              "#0d0887"
             ],
             [
              0.1111111111111111,
              "#46039f"
             ],
             [
              0.2222222222222222,
              "#7201a8"
             ],
             [
              0.3333333333333333,
              "#9c179e"
             ],
             [
              0.4444444444444444,
              "#bd3786"
             ],
             [
              0.5555555555555556,
              "#d8576b"
             ],
             [
              0.6666666666666666,
              "#ed7953"
             ],
             [
              0.7777777777777778,
              "#fb9f3a"
             ],
             [
              0.8888888888888888,
              "#fdca26"
             ],
             [
              1,
              "#f0f921"
             ]
            ],
            "type": "surface"
           }
          ],
          "table": [
           {
            "cells": {
             "fill": {
              "color": "#EBF0F8"
             },
             "line": {
              "color": "white"
             }
            },
            "header": {
             "fill": {
              "color": "#C8D4E3"
             },
             "line": {
              "color": "white"
             }
            },
            "type": "table"
           }
          ]
         },
         "layout": {
          "annotationdefaults": {
           "arrowcolor": "#2a3f5f",
           "arrowhead": 0,
           "arrowwidth": 1
          },
          "autotypenumbers": "strict",
          "coloraxis": {
           "colorbar": {
            "outlinewidth": 0,
            "ticks": ""
           }
          },
          "colorscale": {
           "diverging": [
            [
             0,
             "#8e0152"
            ],
            [
             0.1,
             "#c51b7d"
            ],
            [
             0.2,
             "#de77ae"
            ],
            [
             0.3,
             "#f1b6da"
            ],
            [
             0.4,
             "#fde0ef"
            ],
            [
             0.5,
             "#f7f7f7"
            ],
            [
             0.6,
             "#e6f5d0"
            ],
            [
             0.7,
             "#b8e186"
            ],
            [
             0.8,
             "#7fbc41"
            ],
            [
             0.9,
             "#4d9221"
            ],
            [
             1,
             "#276419"
            ]
           ],
           "sequential": [
            [
             0,
             "#0d0887"
            ],
            [
             0.1111111111111111,
             "#46039f"
            ],
            [
             0.2222222222222222,
             "#7201a8"
            ],
            [
             0.3333333333333333,
             "#9c179e"
            ],
            [
             0.4444444444444444,
             "#bd3786"
            ],
            [
             0.5555555555555556,
             "#d8576b"
            ],
            [
             0.6666666666666666,
             "#ed7953"
            ],
            [
             0.7777777777777778,
             "#fb9f3a"
            ],
            [
             0.8888888888888888,
             "#fdca26"
            ],
            [
             1,
             "#f0f921"
            ]
           ],
           "sequentialminus": [
            [
             0,
             "#0d0887"
            ],
            [
             0.1111111111111111,
             "#46039f"
            ],
            [
             0.2222222222222222,
             "#7201a8"
            ],
            [
             0.3333333333333333,
             "#9c179e"
            ],
            [
             0.4444444444444444,
             "#bd3786"
            ],
            [
             0.5555555555555556,
             "#d8576b"
            ],
            [
             0.6666666666666666,
             "#ed7953"
            ],
            [
             0.7777777777777778,
             "#fb9f3a"
            ],
            [
             0.8888888888888888,
             "#fdca26"
            ],
            [
             1,
             "#f0f921"
            ]
           ]
          },
          "colorway": [
           "#636efa",
           "#EF553B",
           "#00cc96",
           "#ab63fa",
           "#FFA15A",
           "#19d3f3",
           "#FF6692",
           "#B6E880",
           "#FF97FF",
           "#FECB52"
          ],
          "font": {
           "color": "#2a3f5f"
          },
          "geo": {
           "bgcolor": "white",
           "lakecolor": "white",
           "landcolor": "#E5ECF6",
           "showlakes": true,
           "showland": true,
           "subunitcolor": "white"
          },
          "hoverlabel": {
           "align": "left"
          },
          "hovermode": "closest",
          "mapbox": {
           "style": "light"
          },
          "paper_bgcolor": "white",
          "plot_bgcolor": "#E5ECF6",
          "polar": {
           "angularaxis": {
            "gridcolor": "white",
            "linecolor": "white",
            "ticks": ""
           },
           "bgcolor": "#E5ECF6",
           "radialaxis": {
            "gridcolor": "white",
            "linecolor": "white",
            "ticks": ""
           }
          },
          "scene": {
           "xaxis": {
            "backgroundcolor": "#E5ECF6",
            "gridcolor": "white",
            "gridwidth": 2,
            "linecolor": "white",
            "showbackground": true,
            "ticks": "",
            "zerolinecolor": "white"
           },
           "yaxis": {
            "backgroundcolor": "#E5ECF6",
            "gridcolor": "white",
            "gridwidth": 2,
            "linecolor": "white",
            "showbackground": true,
            "ticks": "",
            "zerolinecolor": "white"
           },
           "zaxis": {
            "backgroundcolor": "#E5ECF6",
            "gridcolor": "white",
            "gridwidth": 2,
            "linecolor": "white",
            "showbackground": true,
            "ticks": "",
            "zerolinecolor": "white"
           }
          },
          "shapedefaults": {
           "line": {
            "color": "#2a3f5f"
           }
          },
          "ternary": {
           "aaxis": {
            "gridcolor": "white",
            "linecolor": "white",
            "ticks": ""
           },
           "baxis": {
            "gridcolor": "white",
            "linecolor": "white",
            "ticks": ""
           },
           "bgcolor": "#E5ECF6",
           "caxis": {
            "gridcolor": "white",
            "linecolor": "white",
            "ticks": ""
           }
          },
          "title": {
           "x": 0.05
          },
          "xaxis": {
           "automargin": true,
           "gridcolor": "white",
           "linecolor": "white",
           "ticks": "",
           "title": {
            "standoff": 15
           },
           "zerolinecolor": "white",
           "zerolinewidth": 2
          },
          "yaxis": {
           "automargin": true,
           "gridcolor": "white",
           "linecolor": "white",
           "ticks": "",
           "title": {
            "standoff": 15
           },
           "zerolinecolor": "white",
           "zerolinewidth": 2
          }
         }
        },
        "title": {
         "text": "Percentage of Null Values"
        },
        "width": 1280,
        "xaxis": {
         "title": {
          "text": "Columns"
         }
        },
        "yaxis": {
         "range": [
          0,
          110.00000000000001
         ],
         "title": {
          "text": "Percentage of Null Values (%)"
         }
        }
       }
      }
     },
     "metadata": {},
     "output_type": "display_data"
    }
   ],
   "source": [
    "labels = null_percentages.index.tolist()\n",
    "values = null_percentages.values.tolist()\n",
    "\n",
    "fig = go.Figure(data=[\n",
    "    go.Bar(\n",
    "        x=labels,\n",
    "        y=values,\n",
    "        text=[f'{v:.1f}%' for v in values],  \n",
    "        textposition='outside',  \n",
    "        marker_color='red',  \n",
    "        marker_line_color='darkred',\n",
    "        marker_line_width=1  \n",
    "    )\n",
    "])\n",
    "\n",
    "fig.update_layout(\n",
    "    title='Percentage of Null Values',\n",
    "    xaxis_title='Columns',\n",
    "    yaxis_title='Percentage of Null Values (%)',\n",
    "    yaxis=dict(range=[0, max(values) * 1.1]), \n",
    "    width=1280,\n",
    "    height=720,\n",
    "    showlegend=False,\n",
    "    font=dict(size=12),\n",
    "    bargap=0.2 \n",
    ")\n",
    "\n",
    "fig.show()"
   ]
  },
  {
   "cell_type": "code",
   "execution_count": 11,
   "id": "164f0638",
   "metadata": {},
   "outputs": [
    {
     "data": {
      "text/plain": [
       "loan_status\n",
       "Fully Paid                                             92248\n",
       "Current                                                81417\n",
       "Charged Off                                            23057\n",
       "Late (31-120 days)                                      1947\n",
       "In Grace Period                                          746\n",
       "Late (16-30 days)                                        331\n",
       "Does not meet the credit policy. Status:Fully Paid       180\n",
       "Does not meet the credit policy. Status:Charged Off       72\n",
       "Default                                                    2\n",
       "Name: count, dtype: int64"
      ]
     },
     "execution_count": 11,
     "metadata": {},
     "output_type": "execute_result"
    }
   ],
   "source": [
    "df['loan_status'].value_counts()"
   ]
  },
  {
   "cell_type": "code",
   "execution_count": 12,
   "id": "1fc6df8d",
   "metadata": {},
   "outputs": [
    {
     "data": {
      "text/plain": [
       "loan_status\n",
       "Fully Paid                                             46.1240\n",
       "Current                                                40.7085\n",
       "Charged Off                                            11.5285\n",
       "Late (31-120 days)                                      0.9735\n",
       "In Grace Period                                         0.3730\n",
       "Late (16-30 days)                                       0.1655\n",
       "Does not meet the credit policy. Status:Fully Paid      0.0900\n",
       "Does not meet the credit policy. Status:Charged Off     0.0360\n",
       "Default                                                 0.0010\n",
       "Name: count, dtype: float64"
      ]
     },
     "execution_count": 12,
     "metadata": {},
     "output_type": "execute_result"
    }
   ],
   "source": [
    "df['loan_status'].value_counts()/len(df)*100"
   ]
  },
  {
   "cell_type": "code",
   "execution_count": 13,
   "id": "131ce763",
   "metadata": {},
   "outputs": [
    {
     "data": {
      "application/vnd.plotly.v1+json": {
       "config": {
        "plotlyServerURL": "https://plot.ly"
       },
       "data": [
        {
         "marker": {
          "color": "red",
          "line": {
           "color": "darkred",
           "width": 1
          }
         },
         "text": [
          "92248",
          "81417",
          "23057",
          "1947",
          "746",
          "331",
          "180",
          "72",
          "2"
         ],
         "textfont": {
          "color": "black",
          "size": 12
         },
         "textposition": "outside",
         "type": "bar",
         "width": 0.3,
         "x": [
          "Fully Paid",
          "Current",
          "Charged Off",
          "Late (31-120 days)",
          "In Grace Period",
          "Late (16-30 days)",
          "Does not meet the credit policy. Status:Fully Paid",
          "Does not meet the credit policy. Status:Charged Off",
          "Default"
         ],
         "y": [
          92248,
          81417,
          23057,
          1947,
          746,
          331,
          180,
          72,
          2
         ]
        }
       ],
       "layout": {
        "bargap": 0.2,
        "font": {
         "size": 12
        },
        "height": 600,
        "margin": {
         "b": 100,
         "l": 100,
         "r": 100,
         "t": 100
        },
        "showlegend": false,
        "template": {
         "data": {
          "bar": [
           {
            "error_x": {
             "color": "#2a3f5f"
            },
            "error_y": {
             "color": "#2a3f5f"
            },
            "marker": {
             "line": {
              "color": "#E5ECF6",
              "width": 0.5
             },
             "pattern": {
              "fillmode": "overlay",
              "size": 10,
              "solidity": 0.2
             }
            },
            "type": "bar"
           }
          ],
          "barpolar": [
           {
            "marker": {
             "line": {
              "color": "#E5ECF6",
              "width": 0.5
             },
             "pattern": {
              "fillmode": "overlay",
              "size": 10,
              "solidity": 0.2
             }
            },
            "type": "barpolar"
           }
          ],
          "carpet": [
           {
            "aaxis": {
             "endlinecolor": "#2a3f5f",
             "gridcolor": "white",
             "linecolor": "white",
             "minorgridcolor": "white",
             "startlinecolor": "#2a3f5f"
            },
            "baxis": {
             "endlinecolor": "#2a3f5f",
             "gridcolor": "white",
             "linecolor": "white",
             "minorgridcolor": "white",
             "startlinecolor": "#2a3f5f"
            },
            "type": "carpet"
           }
          ],
          "choropleth": [
           {
            "colorbar": {
             "outlinewidth": 0,
             "ticks": ""
            },
            "type": "choropleth"
           }
          ],
          "contour": [
           {
            "colorbar": {
             "outlinewidth": 0,
             "ticks": ""
            },
            "colorscale": [
             [
              0,
              "#0d0887"
             ],
             [
              0.1111111111111111,
              "#46039f"
             ],
             [
              0.2222222222222222,
              "#7201a8"
             ],
             [
              0.3333333333333333,
              "#9c179e"
             ],
             [
              0.4444444444444444,
              "#bd3786"
             ],
             [
              0.5555555555555556,
              "#d8576b"
             ],
             [
              0.6666666666666666,
              "#ed7953"
             ],
             [
              0.7777777777777778,
              "#fb9f3a"
             ],
             [
              0.8888888888888888,
              "#fdca26"
             ],
             [
              1,
              "#f0f921"
             ]
            ],
            "type": "contour"
           }
          ],
          "contourcarpet": [
           {
            "colorbar": {
             "outlinewidth": 0,
             "ticks": ""
            },
            "type": "contourcarpet"
           }
          ],
          "heatmap": [
           {
            "colorbar": {
             "outlinewidth": 0,
             "ticks": ""
            },
            "colorscale": [
             [
              0,
              "#0d0887"
             ],
             [
              0.1111111111111111,
              "#46039f"
             ],
             [
              0.2222222222222222,
              "#7201a8"
             ],
             [
              0.3333333333333333,
              "#9c179e"
             ],
             [
              0.4444444444444444,
              "#bd3786"
             ],
             [
              0.5555555555555556,
              "#d8576b"
             ],
             [
              0.6666666666666666,
              "#ed7953"
             ],
             [
              0.7777777777777778,
              "#fb9f3a"
             ],
             [
              0.8888888888888888,
              "#fdca26"
             ],
             [
              1,
              "#f0f921"
             ]
            ],
            "type": "heatmap"
           }
          ],
          "heatmapgl": [
           {
            "colorbar": {
             "outlinewidth": 0,
             "ticks": ""
            },
            "colorscale": [
             [
              0,
              "#0d0887"
             ],
             [
              0.1111111111111111,
              "#46039f"
             ],
             [
              0.2222222222222222,
              "#7201a8"
             ],
             [
              0.3333333333333333,
              "#9c179e"
             ],
             [
              0.4444444444444444,
              "#bd3786"
             ],
             [
              0.5555555555555556,
              "#d8576b"
             ],
             [
              0.6666666666666666,
              "#ed7953"
             ],
             [
              0.7777777777777778,
              "#fb9f3a"
             ],
             [
              0.8888888888888888,
              "#fdca26"
             ],
             [
              1,
              "#f0f921"
             ]
            ],
            "type": "heatmapgl"
           }
          ],
          "histogram": [
           {
            "marker": {
             "pattern": {
              "fillmode": "overlay",
              "size": 10,
              "solidity": 0.2
             }
            },
            "type": "histogram"
           }
          ],
          "histogram2d": [
           {
            "colorbar": {
             "outlinewidth": 0,
             "ticks": ""
            },
            "colorscale": [
             [
              0,
              "#0d0887"
             ],
             [
              0.1111111111111111,
              "#46039f"
             ],
             [
              0.2222222222222222,
              "#7201a8"
             ],
             [
              0.3333333333333333,
              "#9c179e"
             ],
             [
              0.4444444444444444,
              "#bd3786"
             ],
             [
              0.5555555555555556,
              "#d8576b"
             ],
             [
              0.6666666666666666,
              "#ed7953"
             ],
             [
              0.7777777777777778,
              "#fb9f3a"
             ],
             [
              0.8888888888888888,
              "#fdca26"
             ],
             [
              1,
              "#f0f921"
             ]
            ],
            "type": "histogram2d"
           }
          ],
          "histogram2dcontour": [
           {
            "colorbar": {
             "outlinewidth": 0,
             "ticks": ""
            },
            "colorscale": [
             [
              0,
              "#0d0887"
             ],
             [
              0.1111111111111111,
              "#46039f"
             ],
             [
              0.2222222222222222,
              "#7201a8"
             ],
             [
              0.3333333333333333,
              "#9c179e"
             ],
             [
              0.4444444444444444,
              "#bd3786"
             ],
             [
              0.5555555555555556,
              "#d8576b"
             ],
             [
              0.6666666666666666,
              "#ed7953"
             ],
             [
              0.7777777777777778,
              "#fb9f3a"
             ],
             [
              0.8888888888888888,
              "#fdca26"
             ],
             [
              1,
              "#f0f921"
             ]
            ],
            "type": "histogram2dcontour"
           }
          ],
          "mesh3d": [
           {
            "colorbar": {
             "outlinewidth": 0,
             "ticks": ""
            },
            "type": "mesh3d"
           }
          ],
          "parcoords": [
           {
            "line": {
             "colorbar": {
              "outlinewidth": 0,
              "ticks": ""
             }
            },
            "type": "parcoords"
           }
          ],
          "pie": [
           {
            "automargin": true,
            "type": "pie"
           }
          ],
          "scatter": [
           {
            "fillpattern": {
             "fillmode": "overlay",
             "size": 10,
             "solidity": 0.2
            },
            "type": "scatter"
           }
          ],
          "scatter3d": [
           {
            "line": {
             "colorbar": {
              "outlinewidth": 0,
              "ticks": ""
             }
            },
            "marker": {
             "colorbar": {
              "outlinewidth": 0,
              "ticks": ""
             }
            },
            "type": "scatter3d"
           }
          ],
          "scattercarpet": [
           {
            "marker": {
             "colorbar": {
              "outlinewidth": 0,
              "ticks": ""
             }
            },
            "type": "scattercarpet"
           }
          ],
          "scattergeo": [
           {
            "marker": {
             "colorbar": {
              "outlinewidth": 0,
              "ticks": ""
             }
            },
            "type": "scattergeo"
           }
          ],
          "scattergl": [
           {
            "marker": {
             "colorbar": {
              "outlinewidth": 0,
              "ticks": ""
             }
            },
            "type": "scattergl"
           }
          ],
          "scattermapbox": [
           {
            "marker": {
             "colorbar": {
              "outlinewidth": 0,
              "ticks": ""
             }
            },
            "type": "scattermapbox"
           }
          ],
          "scatterpolar": [
           {
            "marker": {
             "colorbar": {
              "outlinewidth": 0,
              "ticks": ""
             }
            },
            "type": "scatterpolar"
           }
          ],
          "scatterpolargl": [
           {
            "marker": {
             "colorbar": {
              "outlinewidth": 0,
              "ticks": ""
             }
            },
            "type": "scatterpolargl"
           }
          ],
          "scatterternary": [
           {
            "marker": {
             "colorbar": {
              "outlinewidth": 0,
              "ticks": ""
             }
            },
            "type": "scatterternary"
           }
          ],
          "surface": [
           {
            "colorbar": {
             "outlinewidth": 0,
             "ticks": ""
            },
            "colorscale": [
             [
              0,
              "#0d0887"
             ],
             [
              0.1111111111111111,
              "#46039f"
             ],
             [
              0.2222222222222222,
              "#7201a8"
             ],
             [
              0.3333333333333333,
              "#9c179e"
             ],
             [
              0.4444444444444444,
              "#bd3786"
             ],
             [
              0.5555555555555556,
              "#d8576b"
             ],
             [
              0.6666666666666666,
              "#ed7953"
             ],
             [
              0.7777777777777778,
              "#fb9f3a"
             ],
             [
              0.8888888888888888,
              "#fdca26"
             ],
             [
              1,
              "#f0f921"
             ]
            ],
            "type": "surface"
           }
          ],
          "table": [
           {
            "cells": {
             "fill": {
              "color": "#EBF0F8"
             },
             "line": {
              "color": "white"
             }
            },
            "header": {
             "fill": {
              "color": "#C8D4E3"
             },
             "line": {
              "color": "white"
             }
            },
            "type": "table"
           }
          ]
         },
         "layout": {
          "annotationdefaults": {
           "arrowcolor": "#2a3f5f",
           "arrowhead": 0,
           "arrowwidth": 1
          },
          "autotypenumbers": "strict",
          "coloraxis": {
           "colorbar": {
            "outlinewidth": 0,
            "ticks": ""
           }
          },
          "colorscale": {
           "diverging": [
            [
             0,
             "#8e0152"
            ],
            [
             0.1,
             "#c51b7d"
            ],
            [
             0.2,
             "#de77ae"
            ],
            [
             0.3,
             "#f1b6da"
            ],
            [
             0.4,
             "#fde0ef"
            ],
            [
             0.5,
             "#f7f7f7"
            ],
            [
             0.6,
             "#e6f5d0"
            ],
            [
             0.7,
             "#b8e186"
            ],
            [
             0.8,
             "#7fbc41"
            ],
            [
             0.9,
             "#4d9221"
            ],
            [
             1,
             "#276419"
            ]
           ],
           "sequential": [
            [
             0,
             "#0d0887"
            ],
            [
             0.1111111111111111,
             "#46039f"
            ],
            [
             0.2222222222222222,
             "#7201a8"
            ],
            [
             0.3333333333333333,
             "#9c179e"
            ],
            [
             0.4444444444444444,
             "#bd3786"
            ],
            [
             0.5555555555555556,
             "#d8576b"
            ],
            [
             0.6666666666666666,
             "#ed7953"
            ],
            [
             0.7777777777777778,
             "#fb9f3a"
            ],
            [
             0.8888888888888888,
             "#fdca26"
            ],
            [
             1,
             "#f0f921"
            ]
           ],
           "sequentialminus": [
            [
             0,
             "#0d0887"
            ],
            [
             0.1111111111111111,
             "#46039f"
            ],
            [
             0.2222222222222222,
             "#7201a8"
            ],
            [
             0.3333333333333333,
             "#9c179e"
            ],
            [
             0.4444444444444444,
             "#bd3786"
            ],
            [
             0.5555555555555556,
             "#d8576b"
            ],
            [
             0.6666666666666666,
             "#ed7953"
            ],
            [
             0.7777777777777778,
             "#fb9f3a"
            ],
            [
             0.8888888888888888,
             "#fdca26"
            ],
            [
             1,
             "#f0f921"
            ]
           ]
          },
          "colorway": [
           "#636efa",
           "#EF553B",
           "#00cc96",
           "#ab63fa",
           "#FFA15A",
           "#19d3f3",
           "#FF6692",
           "#B6E880",
           "#FF97FF",
           "#FECB52"
          ],
          "font": {
           "color": "#2a3f5f"
          },
          "geo": {
           "bgcolor": "white",
           "lakecolor": "white",
           "landcolor": "#E5ECF6",
           "showlakes": true,
           "showland": true,
           "subunitcolor": "white"
          },
          "hoverlabel": {
           "align": "left"
          },
          "hovermode": "closest",
          "mapbox": {
           "style": "light"
          },
          "paper_bgcolor": "white",
          "plot_bgcolor": "#E5ECF6",
          "polar": {
           "angularaxis": {
            "gridcolor": "white",
            "linecolor": "white",
            "ticks": ""
           },
           "bgcolor": "#E5ECF6",
           "radialaxis": {
            "gridcolor": "white",
            "linecolor": "white",
            "ticks": ""
           }
          },
          "scene": {
           "xaxis": {
            "backgroundcolor": "#E5ECF6",
            "gridcolor": "white",
            "gridwidth": 2,
            "linecolor": "white",
            "showbackground": true,
            "ticks": "",
            "zerolinecolor": "white"
           },
           "yaxis": {
            "backgroundcolor": "#E5ECF6",
            "gridcolor": "white",
            "gridwidth": 2,
            "linecolor": "white",
            "showbackground": true,
            "ticks": "",
            "zerolinecolor": "white"
           },
           "zaxis": {
            "backgroundcolor": "#E5ECF6",
            "gridcolor": "white",
            "gridwidth": 2,
            "linecolor": "white",
            "showbackground": true,
            "ticks": "",
            "zerolinecolor": "white"
           }
          },
          "shapedefaults": {
           "line": {
            "color": "#2a3f5f"
           }
          },
          "ternary": {
           "aaxis": {
            "gridcolor": "white",
            "linecolor": "white",
            "ticks": ""
           },
           "baxis": {
            "gridcolor": "white",
            "linecolor": "white",
            "ticks": ""
           },
           "bgcolor": "#E5ECF6",
           "caxis": {
            "gridcolor": "white",
            "linecolor": "white",
            "ticks": ""
           }
          },
          "title": {
           "x": 0.05
          },
          "xaxis": {
           "automargin": true,
           "gridcolor": "white",
           "linecolor": "white",
           "ticks": "",
           "title": {
            "standoff": 15
           },
           "zerolinecolor": "white",
           "zerolinewidth": 2
          },
          "yaxis": {
           "automargin": true,
           "gridcolor": "white",
           "linecolor": "white",
           "ticks": "",
           "title": {
            "standoff": 15
           },
           "zerolinecolor": "white",
           "zerolinewidth": 2
          }
         }
        },
        "title": {
         "text": "Loan Status Counts"
        },
        "width": 800,
        "xaxis": {
         "title": {
          "text": "Loan Status"
         }
        },
        "yaxis": {
         "range": [
          0,
          110697.59999999999
         ],
         "title": {
          "text": "Number of Records"
         }
        }
       }
      }
     },
     "metadata": {},
     "output_type": "display_data"
    }
   ],
   "source": [
    "loan_status_value_counts = df['loan_status'].value_counts()\n",
    "loan_status_labels = loan_status_value_counts.index.tolist()\n",
    "loan_status_counts = loan_status_value_counts.values.tolist()\n",
    "\n",
    "fig = go.Figure(data=[\n",
    "    go.Bar(\n",
    "        x=loan_status_labels,\n",
    "        y=loan_status_counts,\n",
    "        text=loan_status_counts, \n",
    "        textposition='outside',  \n",
    "        textfont=dict(size=12, color='black'), \n",
    "        marker_color='red',  \n",
    "        marker_line_color='darkred', \n",
    "        marker_line_width=1, \n",
    "        width=0.3\n",
    "    )\n",
    "])\n",
    "\n",
    "fig.update_layout(\n",
    "    title='Loan Status Counts',\n",
    "    xaxis_title='Loan Status',\n",
    "    yaxis_title='Number of Records',\n",
    "    yaxis=dict(range=[0, max(loan_status_counts) * 1.2]), \n",
    "    width=800,  \n",
    "    height=600,  \n",
    "    showlegend=False, \n",
    "    font=dict(size=12),\n",
    "    bargap=0.2,  \n",
    "    margin=dict(t=100, b=100, l=100, r=100)\n",
    ")\n",
    "\n",
    "fig.show()"
   ]
  },
  {
   "cell_type": "code",
   "execution_count": 14,
   "id": "b1c2b508",
   "metadata": {},
   "outputs": [],
   "source": [
    "status_map = {\n",
    "    'Fully Paid': 0, \n",
    "    'Current': 0, \n",
    "    'Charged Off': 1, \n",
    "    'Late (31-120 days)': 0, \n",
    "    'In Grace Period': 0, \n",
    "    'Late (16-30 days)': 0, \n",
    "    'Does not meet the credit policy. Status:Fully Paid': 0, \n",
    "    'Does not meet the credit policy. Status:Charged Off': 1, \n",
    "    'Default': 1\n",
    "}"
   ]
  },
  {
   "cell_type": "code",
   "execution_count": 15,
   "id": "c6ebeab9",
   "metadata": {},
   "outputs": [
    {
     "data": {
      "text/plain": [
       "target\n",
       "0    0.884345\n",
       "1    0.115655\n",
       "Name: proportion, dtype: float64"
      ]
     },
     "execution_count": 15,
     "metadata": {},
     "output_type": "execute_result"
    }
   ],
   "source": [
    "df['target'] = df['loan_status'].map(status_map)\n",
    "df['target'].value_counts(normalize=True)"
   ]
  },
  {
   "cell_type": "code",
   "execution_count": 16,
   "id": "426db2e0",
   "metadata": {},
   "outputs": [
    {
     "data": {
      "text/html": [
       "<div>\n",
       "<style scoped>\n",
       "    .dataframe tbody tr th:only-of-type {\n",
       "        vertical-align: middle;\n",
       "    }\n",
       "\n",
       "    .dataframe tbody tr th {\n",
       "        vertical-align: top;\n",
       "    }\n",
       "\n",
       "    .dataframe thead th {\n",
       "        text-align: right;\n",
       "    }\n",
       "</style>\n",
       "<table border=\"1\" class=\"dataframe\">\n",
       "  <thead>\n",
       "    <tr style=\"text-align: right;\">\n",
       "      <th></th>\n",
       "      <th>loan_amnt</th>\n",
       "      <th>funded_amnt</th>\n",
       "      <th>funded_amnt_inv</th>\n",
       "      <th>int_rate</th>\n",
       "      <th>installment</th>\n",
       "      <th>annual_inc</th>\n",
       "      <th>dti</th>\n",
       "      <th>delinq_2yrs</th>\n",
       "      <th>inq_last_6mths</th>\n",
       "      <th>mths_since_last_delinq</th>\n",
       "      <th>...</th>\n",
       "      <th>hardship_amount</th>\n",
       "      <th>hardship_length</th>\n",
       "      <th>hardship_dpd</th>\n",
       "      <th>orig_projected_additional_accrued_interest</th>\n",
       "      <th>hardship_payoff_balance_amount</th>\n",
       "      <th>hardship_last_payment_amount</th>\n",
       "      <th>settlement_amount</th>\n",
       "      <th>settlement_percentage</th>\n",
       "      <th>settlement_term</th>\n",
       "      <th>target</th>\n",
       "    </tr>\n",
       "  </thead>\n",
       "  <tbody>\n",
       "    <tr>\n",
       "      <th>count</th>\n",
       "      <td>200000.000000</td>\n",
       "      <td>200000.000000</td>\n",
       "      <td>200000.000000</td>\n",
       "      <td>200000.000000</td>\n",
       "      <td>200000.000000</td>\n",
       "      <td>2.000000e+05</td>\n",
       "      <td>199843.000000</td>\n",
       "      <td>199996.000000</td>\n",
       "      <td>199996.000000</td>\n",
       "      <td>97524.000000</td>\n",
       "      <td>...</td>\n",
       "      <td>942.000000</td>\n",
       "      <td>942.0</td>\n",
       "      <td>942.000000</td>\n",
       "      <td>739.000000</td>\n",
       "      <td>942.000000</td>\n",
       "      <td>942.000000</td>\n",
       "      <td>2916.000000</td>\n",
       "      <td>2916.000000</td>\n",
       "      <td>2916.000000</td>\n",
       "      <td>200000.000000</td>\n",
       "    </tr>\n",
       "    <tr>\n",
       "      <th>mean</th>\n",
       "      <td>15042.836625</td>\n",
       "      <td>15037.270875</td>\n",
       "      <td>15018.016696</td>\n",
       "      <td>13.092603</td>\n",
       "      <td>445.735626</td>\n",
       "      <td>7.792153e+04</td>\n",
       "      <td>18.813893</td>\n",
       "      <td>0.305101</td>\n",
       "      <td>0.572991</td>\n",
       "      <td>34.609429</td>\n",
       "      <td>...</td>\n",
       "      <td>154.253960</td>\n",
       "      <td>3.0</td>\n",
       "      <td>13.897028</td>\n",
       "      <td>446.573058</td>\n",
       "      <td>11388.067887</td>\n",
       "      <td>188.206391</td>\n",
       "      <td>5077.059588</td>\n",
       "      <td>47.689222</td>\n",
       "      <td>13.170439</td>\n",
       "      <td>0.115655</td>\n",
       "    </tr>\n",
       "    <tr>\n",
       "      <th>std</th>\n",
       "      <td>9171.962091</td>\n",
       "      <td>9169.706889</td>\n",
       "      <td>9174.064233</td>\n",
       "      <td>4.834885</td>\n",
       "      <td>266.772722</td>\n",
       "      <td>7.443695e+04</td>\n",
       "      <td>13.903082</td>\n",
       "      <td>0.861753</td>\n",
       "      <td>0.886356</td>\n",
       "      <td>21.888122</td>\n",
       "      <td>...</td>\n",
       "      <td>122.933367</td>\n",
       "      <td>0.0</td>\n",
       "      <td>9.800833</td>\n",
       "      <td>353.359763</td>\n",
       "      <td>7194.548273</td>\n",
       "      <td>195.438886</td>\n",
       "      <td>3695.481612</td>\n",
       "      <td>6.797273</td>\n",
       "      <td>8.051768</td>\n",
       "      <td>0.319812</td>\n",
       "    </tr>\n",
       "    <tr>\n",
       "      <th>min</th>\n",
       "      <td>500.000000</td>\n",
       "      <td>500.000000</td>\n",
       "      <td>0.000000</td>\n",
       "      <td>5.310000</td>\n",
       "      <td>15.910000</td>\n",
       "      <td>0.000000e+00</td>\n",
       "      <td>0.000000</td>\n",
       "      <td>0.000000</td>\n",
       "      <td>0.000000</td>\n",
       "      <td>0.000000</td>\n",
       "      <td>...</td>\n",
       "      <td>5.360000</td>\n",
       "      <td>3.0</td>\n",
       "      <td>0.000000</td>\n",
       "      <td>16.080000</td>\n",
       "      <td>584.450000</td>\n",
       "      <td>0.010000</td>\n",
       "      <td>142.000000</td>\n",
       "      <td>18.920000</td>\n",
       "      <td>0.000000</td>\n",
       "      <td>0.000000</td>\n",
       "    </tr>\n",
       "    <tr>\n",
       "      <th>1%</th>\n",
       "      <td>1600.000000</td>\n",
       "      <td>1600.000000</td>\n",
       "      <td>1500.000000</td>\n",
       "      <td>5.320000</td>\n",
       "      <td>54.129400</td>\n",
       "      <td>1.680000e+04</td>\n",
       "      <td>1.710000</td>\n",
       "      <td>0.000000</td>\n",
       "      <td>0.000000</td>\n",
       "      <td>2.000000</td>\n",
       "      <td>...</td>\n",
       "      <td>11.347400</td>\n",
       "      <td>3.0</td>\n",
       "      <td>0.000000</td>\n",
       "      <td>34.029600</td>\n",
       "      <td>1322.738300</td>\n",
       "      <td>0.040000</td>\n",
       "      <td>389.450000</td>\n",
       "      <td>31.563500</td>\n",
       "      <td>0.000000</td>\n",
       "      <td>0.000000</td>\n",
       "    </tr>\n",
       "    <tr>\n",
       "      <th>25%</th>\n",
       "      <td>8000.000000</td>\n",
       "      <td>8000.000000</td>\n",
       "      <td>8000.000000</td>\n",
       "      <td>9.490000</td>\n",
       "      <td>252.140000</td>\n",
       "      <td>4.600000e+04</td>\n",
       "      <td>11.860000</td>\n",
       "      <td>0.000000</td>\n",
       "      <td>0.000000</td>\n",
       "      <td>16.000000</td>\n",
       "      <td>...</td>\n",
       "      <td>61.950000</td>\n",
       "      <td>3.0</td>\n",
       "      <td>5.000000</td>\n",
       "      <td>181.290000</td>\n",
       "      <td>5777.497500</td>\n",
       "      <td>42.140000</td>\n",
       "      <td>2242.102500</td>\n",
       "      <td>45.000000</td>\n",
       "      <td>6.000000</td>\n",
       "      <td>0.000000</td>\n",
       "    </tr>\n",
       "    <tr>\n",
       "      <th>50%</th>\n",
       "      <td>12950.000000</td>\n",
       "      <td>12900.000000</td>\n",
       "      <td>12800.000000</td>\n",
       "      <td>12.620000</td>\n",
       "      <td>377.510000</td>\n",
       "      <td>6.500000e+04</td>\n",
       "      <td>17.840000</td>\n",
       "      <td>0.000000</td>\n",
       "      <td>0.000000</td>\n",
       "      <td>31.000000</td>\n",
       "      <td>...</td>\n",
       "      <td>120.220000</td>\n",
       "      <td>3.0</td>\n",
       "      <td>15.000000</td>\n",
       "      <td>349.860000</td>\n",
       "      <td>9843.650000</td>\n",
       "      <td>121.885000</td>\n",
       "      <td>4256.615000</td>\n",
       "      <td>45.000000</td>\n",
       "      <td>14.000000</td>\n",
       "      <td>0.000000</td>\n",
       "    </tr>\n",
       "    <tr>\n",
       "      <th>75%</th>\n",
       "      <td>20000.000000</td>\n",
       "      <td>20000.000000</td>\n",
       "      <td>20000.000000</td>\n",
       "      <td>15.990000</td>\n",
       "      <td>592.110000</td>\n",
       "      <td>9.300000e+04</td>\n",
       "      <td>24.520000</td>\n",
       "      <td>0.000000</td>\n",
       "      <td>1.000000</td>\n",
       "      <td>50.000000</td>\n",
       "      <td>...</td>\n",
       "      <td>216.302500</td>\n",
       "      <td>3.0</td>\n",
       "      <td>22.000000</td>\n",
       "      <td>623.715000</td>\n",
       "      <td>15767.637500</td>\n",
       "      <td>273.762500</td>\n",
       "      <td>7000.000000</td>\n",
       "      <td>50.000000</td>\n",
       "      <td>18.000000</td>\n",
       "      <td>0.000000</td>\n",
       "    </tr>\n",
       "    <tr>\n",
       "      <th>99%</th>\n",
       "      <td>40000.000000</td>\n",
       "      <td>40000.000000</td>\n",
       "      <td>40000.000000</td>\n",
       "      <td>26.770000</td>\n",
       "      <td>1238.930000</td>\n",
       "      <td>2.660000e+05</td>\n",
       "      <td>42.440000</td>\n",
       "      <td>4.000000</td>\n",
       "      <td>4.000000</td>\n",
       "      <td>81.000000</td>\n",
       "      <td>...</td>\n",
       "      <td>549.741200</td>\n",
       "      <td>3.0</td>\n",
       "      <td>29.000000</td>\n",
       "      <td>1618.419600</td>\n",
       "      <td>32237.348800</td>\n",
       "      <td>829.931700</td>\n",
       "      <td>16543.750000</td>\n",
       "      <td>65.925500</td>\n",
       "      <td>24.000000</td>\n",
       "      <td>1.000000</td>\n",
       "    </tr>\n",
       "    <tr>\n",
       "      <th>max</th>\n",
       "      <td>40000.000000</td>\n",
       "      <td>40000.000000</td>\n",
       "      <td>40000.000000</td>\n",
       "      <td>30.990000</td>\n",
       "      <td>1618.240000</td>\n",
       "      <td>9.757200e+06</td>\n",
       "      <td>999.000000</td>\n",
       "      <td>26.000000</td>\n",
       "      <td>19.000000</td>\n",
       "      <td>176.000000</td>\n",
       "      <td>...</td>\n",
       "      <td>825.570000</td>\n",
       "      <td>3.0</td>\n",
       "      <td>30.000000</td>\n",
       "      <td>2128.080000</td>\n",
       "      <td>36545.350000</td>\n",
       "      <td>1206.060000</td>\n",
       "      <td>27000.000000</td>\n",
       "      <td>100.000000</td>\n",
       "      <td>45.000000</td>\n",
       "      <td>1.000000</td>\n",
       "    </tr>\n",
       "  </tbody>\n",
       "</table>\n",
       "<p>10 rows × 107 columns</p>\n",
       "</div>"
      ],
      "text/plain": [
       "           loan_amnt    funded_amnt  funded_amnt_inv       int_rate  \\\n",
       "count  200000.000000  200000.000000    200000.000000  200000.000000   \n",
       "mean    15042.836625   15037.270875     15018.016696      13.092603   \n",
       "std      9171.962091    9169.706889      9174.064233       4.834885   \n",
       "min       500.000000     500.000000         0.000000       5.310000   \n",
       "1%       1600.000000    1600.000000      1500.000000       5.320000   \n",
       "25%      8000.000000    8000.000000      8000.000000       9.490000   \n",
       "50%     12950.000000   12900.000000     12800.000000      12.620000   \n",
       "75%     20000.000000   20000.000000     20000.000000      15.990000   \n",
       "99%     40000.000000   40000.000000     40000.000000      26.770000   \n",
       "max     40000.000000   40000.000000     40000.000000      30.990000   \n",
       "\n",
       "         installment    annual_inc            dti    delinq_2yrs  \\\n",
       "count  200000.000000  2.000000e+05  199843.000000  199996.000000   \n",
       "mean      445.735626  7.792153e+04      18.813893       0.305101   \n",
       "std       266.772722  7.443695e+04      13.903082       0.861753   \n",
       "min        15.910000  0.000000e+00       0.000000       0.000000   \n",
       "1%         54.129400  1.680000e+04       1.710000       0.000000   \n",
       "25%       252.140000  4.600000e+04      11.860000       0.000000   \n",
       "50%       377.510000  6.500000e+04      17.840000       0.000000   \n",
       "75%       592.110000  9.300000e+04      24.520000       0.000000   \n",
       "99%      1238.930000  2.660000e+05      42.440000       4.000000   \n",
       "max      1618.240000  9.757200e+06     999.000000      26.000000   \n",
       "\n",
       "       inq_last_6mths  mths_since_last_delinq  ...  hardship_amount  \\\n",
       "count   199996.000000            97524.000000  ...       942.000000   \n",
       "mean         0.572991               34.609429  ...       154.253960   \n",
       "std          0.886356               21.888122  ...       122.933367   \n",
       "min          0.000000                0.000000  ...         5.360000   \n",
       "1%           0.000000                2.000000  ...        11.347400   \n",
       "25%          0.000000               16.000000  ...        61.950000   \n",
       "50%          0.000000               31.000000  ...       120.220000   \n",
       "75%          1.000000               50.000000  ...       216.302500   \n",
       "99%          4.000000               81.000000  ...       549.741200   \n",
       "max         19.000000              176.000000  ...       825.570000   \n",
       "\n",
       "       hardship_length  hardship_dpd  \\\n",
       "count            942.0    942.000000   \n",
       "mean               3.0     13.897028   \n",
       "std                0.0      9.800833   \n",
       "min                3.0      0.000000   \n",
       "1%                 3.0      0.000000   \n",
       "25%                3.0      5.000000   \n",
       "50%                3.0     15.000000   \n",
       "75%                3.0     22.000000   \n",
       "99%                3.0     29.000000   \n",
       "max                3.0     30.000000   \n",
       "\n",
       "       orig_projected_additional_accrued_interest  \\\n",
       "count                                  739.000000   \n",
       "mean                                   446.573058   \n",
       "std                                    353.359763   \n",
       "min                                     16.080000   \n",
       "1%                                      34.029600   \n",
       "25%                                    181.290000   \n",
       "50%                                    349.860000   \n",
       "75%                                    623.715000   \n",
       "99%                                   1618.419600   \n",
       "max                                   2128.080000   \n",
       "\n",
       "       hardship_payoff_balance_amount  hardship_last_payment_amount  \\\n",
       "count                      942.000000                    942.000000   \n",
       "mean                     11388.067887                    188.206391   \n",
       "std                       7194.548273                    195.438886   \n",
       "min                        584.450000                      0.010000   \n",
       "1%                        1322.738300                      0.040000   \n",
       "25%                       5777.497500                     42.140000   \n",
       "50%                       9843.650000                    121.885000   \n",
       "75%                      15767.637500                    273.762500   \n",
       "99%                      32237.348800                    829.931700   \n",
       "max                      36545.350000                   1206.060000   \n",
       "\n",
       "       settlement_amount  settlement_percentage  settlement_term  \\\n",
       "count        2916.000000            2916.000000      2916.000000   \n",
       "mean         5077.059588              47.689222        13.170439   \n",
       "std          3695.481612               6.797273         8.051768   \n",
       "min           142.000000              18.920000         0.000000   \n",
       "1%            389.450000              31.563500         0.000000   \n",
       "25%          2242.102500              45.000000         6.000000   \n",
       "50%          4256.615000              45.000000        14.000000   \n",
       "75%          7000.000000              50.000000        18.000000   \n",
       "99%         16543.750000              65.925500        24.000000   \n",
       "max         27000.000000             100.000000        45.000000   \n",
       "\n",
       "              target  \n",
       "count  200000.000000  \n",
       "mean        0.115655  \n",
       "std         0.319812  \n",
       "min         0.000000  \n",
       "1%          0.000000  \n",
       "25%         0.000000  \n",
       "50%         0.000000  \n",
       "75%         0.000000  \n",
       "99%         1.000000  \n",
       "max         1.000000  \n",
       "\n",
       "[10 rows x 107 columns]"
      ]
     },
     "execution_count": 16,
     "metadata": {},
     "output_type": "execute_result"
    }
   ],
   "source": [
    "num_cols = df.select_dtypes(include=[np.number]).columns\n",
    "df[num_cols].describe(percentiles=[0.01, 0.25, 0.5, 0.75, 0.99])"
   ]
  },
  {
   "cell_type": "code",
   "execution_count": 17,
   "id": "1a16ec66",
   "metadata": {},
   "outputs": [
    {
     "name": "stdout",
     "output_type": "stream",
     "text": [
      "term 2\n",
      "grade 7\n",
      "sub_grade 35\n",
      "emp_title 73743\n",
      "emp_length 12\n",
      "home_ownership 6\n",
      "verification_status 3\n",
      "issue_d 139\n",
      "loan_status 9\n",
      "pymnt_plan 2\n",
      "desc 11173\n",
      "purpose 14\n",
      "title 7957\n",
      "zip_code 890\n",
      "addr_state 51\n",
      "earliest_cr_line 672\n",
      "initial_list_status 2\n",
      "last_pymnt_d 136\n",
      "next_pymnt_d 82\n",
      "last_credit_pull_d 130\n",
      "application_type 2\n",
      "verification_status_joint 4\n",
      "sec_app_earliest_cr_line 535\n",
      "hardship_flag 2\n",
      "hardship_type 2\n",
      "hardship_reason 10\n",
      "hardship_status 4\n",
      "hardship_start_date 25\n",
      "hardship_end_date 27\n",
      "payment_plan_start_date 27\n",
      "hardship_loan_status 6\n",
      "disbursement_method 2\n",
      "debt_settlement_flag 2\n",
      "debt_settlement_flag_date 62\n",
      "settlement_status 4\n",
      "settlement_date 70\n"
     ]
    }
   ],
   "source": [
    "cat_cols = df.select_dtypes('object').columns\n",
    "for c in cat_cols:\n",
    "    print(c, df[c].nunique(dropna=False))"
   ]
  },
  {
   "cell_type": "code",
   "execution_count": 18,
   "id": "4623b2a5",
   "metadata": {},
   "outputs": [],
   "source": [
    "df.drop(columns=['emp_title', 'title', 'desc'], inplace=True)"
   ]
  },
  {
   "cell_type": "code",
   "execution_count": 19,
   "id": "b2e0491b",
   "metadata": {},
   "outputs": [
    {
     "name": "stdout",
     "output_type": "stream",
     "text": [
      "univariate_correlations\n"
     ]
    },
    {
     "data": {
      "text/html": [
       "<!--| quarto-html-table-processing: none -->\n",
       "<table id=\"itables_28b058b7_8788_4884_be87_346a8bd7f6d3\"><tbody><tr>\n",
       "    <td style=\"vertical-align:middle; text-align:left\">\n",
       "    <a href=https://mwouts.github.io/itables/><svg class=\"main-svg\" xmlns=\"http://www.w3.org/2000/svg\" xmlns:xlink=\"http://www.w3.org/1999/xlink\"\n",
       "width=\"64\" viewBox=\"0 0 500 400\" style=\"font-family: 'Droid Sans', sans-serif;\">\n",
       "    <g style=\"fill:#d9d7fc\">\n",
       "        <path d=\"M100,400H500V357H100Z\" />\n",
       "        <path d=\"M100,300H400V257H100Z\" />\n",
       "        <path d=\"M0,200H400V157H0Z\" />\n",
       "        <path d=\"M100,100H500V57H100Z\" />\n",
       "        <path d=\"M100,350H500V307H100Z\" />\n",
       "        <path d=\"M100,250H400V207H100Z\" />\n",
       "        <path d=\"M0,150H400V107H0Z\" />\n",
       "        <path d=\"M100,50H500V7H100Z\" />\n",
       "    </g>\n",
       "    <g style=\"fill:#1a1366;stroke:#1a1366;\">\n",
       "   <rect x=\"100\" y=\"7\" width=\"400\" height=\"43\">\n",
       "    <animate\n",
       "      attributeName=\"width\"\n",
       "      values=\"0;400;0\"\n",
       "      dur=\"5s\"\n",
       "      repeatCount=\"indefinite\" />\n",
       "      <animate\n",
       "      attributeName=\"x\"\n",
       "      values=\"100;100;500\"\n",
       "      dur=\"5s\"\n",
       "      repeatCount=\"indefinite\" />\n",
       "  </rect>\n",
       "        <rect x=\"0\" y=\"107\" width=\"400\" height=\"43\">\n",
       "    <animate\n",
       "      attributeName=\"width\"\n",
       "      values=\"0;400;0\"\n",
       "      dur=\"3.5s\"\n",
       "      repeatCount=\"indefinite\" />\n",
       "    <animate\n",
       "      attributeName=\"x\"\n",
       "      values=\"0;0;400\"\n",
       "      dur=\"3.5s\"\n",
       "      repeatCount=\"indefinite\" />\n",
       "  </rect>\n",
       "        <rect x=\"100\" y=\"207\" width=\"300\" height=\"43\">\n",
       "    <animate\n",
       "      attributeName=\"width\"\n",
       "      values=\"0;300;0\"\n",
       "      dur=\"3s\"\n",
       "      repeatCount=\"indefinite\" />\n",
       "    <animate\n",
       "      attributeName=\"x\"\n",
       "      values=\"100;100;400\"\n",
       "      dur=\"3s\"\n",
       "      repeatCount=\"indefinite\" />\n",
       "  </rect>\n",
       "        <rect x=\"100\" y=\"307\" width=\"400\" height=\"43\">\n",
       "    <animate\n",
       "      attributeName=\"width\"\n",
       "      values=\"0;400;0\"\n",
       "      dur=\"4s\"\n",
       "      repeatCount=\"indefinite\" />\n",
       "      <animate\n",
       "      attributeName=\"x\"\n",
       "      values=\"100;100;500\"\n",
       "      dur=\"4s\"\n",
       "      repeatCount=\"indefinite\" />\n",
       "  </rect>\n",
       "        <g style=\"fill:transparent;stroke-width:8; stroke-linejoin:round\" rx=\"5\">\n",
       "            <g transform=\"translate(45 50) rotate(-45)\">\n",
       "                <circle r=\"33\" cx=\"0\" cy=\"0\" />\n",
       "                <rect x=\"-8\" y=\"32\" width=\"16\" height=\"30\" />\n",
       "            </g>\n",
       "\n",
       "            <g transform=\"translate(450 152)\">\n",
       "                <polyline points=\"-15,-20 -35,-20 -35,40 25,40 25,20\" />\n",
       "                <rect x=\"-15\" y=\"-40\" width=\"60\" height=\"60\" />\n",
       "            </g>\n",
       "\n",
       "            <g transform=\"translate(50 352)\">\n",
       "                <polygon points=\"-35,-5 0,-40 35,-5\" />\n",
       "                <polygon points=\"-35,10 0,45 35,10\" />\n",
       "            </g>\n",
       "\n",
       "            <g transform=\"translate(75 250)\">\n",
       "                <polyline points=\"-30,30 -60,0 -30,-30\" />\n",
       "                <polyline points=\"0,30 -30,0 0,-30\" />\n",
       "            </g>\n",
       "\n",
       "            <g transform=\"translate(425 250) rotate(180)\">\n",
       "                <polyline points=\"-30,30 -60,0 -30,-30\" />\n",
       "                <polyline points=\"0,30 -30,0 0,-30\" />\n",
       "            </g>\n",
       "        </g>\n",
       "    </g>\n",
       "</svg>\n",
       "</a>\n",
       "    Loading ITables v2.4.2 from the internet...\n",
       "    (need <a href=https://mwouts.github.io/itables/troubleshooting.html>help</a>?)</td>\n",
       "    </tr></tbody></table>\n",
       "<link href=\"https://www.unpkg.com/dt_for_itables@2.3.3/dt_bundle.css\" rel=\"stylesheet\">\n",
       "<script type=\"module\">\n",
       "    import { ITable, jQuery as $ } from 'https://www.unpkg.com/dt_for_itables@2.3.3/dt_bundle.js';\n",
       "\n",
       "    document.querySelectorAll(\"#itables_28b058b7_8788_4884_be87_346a8bd7f6d3:not(.dataTable)\").forEach(table => {\n",
       "        if (!(table instanceof HTMLTableElement))\n",
       "            return;\n",
       "\n",
       "        let dt_args = {\"layout\": {\"topStart\": \"pageLength\", \"topEnd\": \"search\", \"bottomStart\": \"info\", \"bottomEnd\": \"paging\"}, \"style\": {\"table-layout\": \"auto\", \"width\": \"auto\", \"margin\": \"auto\", \"caption-side\": \"bottom\"}, \"order\": [], \"text_in_header_can_be_selected\": true, \"classes\": [\"display\", \"nowrap\"], \"table_html\": \"<table><thead>\\n    <tr style=\\\"text-align: right;\\\">\\n      \\n      <th>feature</th>\\n      <th>abs_corr</th>\\n    </tr>\\n  </thead></table>\", \"data_json\": \"[[\\\"target\\\", 1.0], [\\\"recoveries\\\", 0.5119], [\\\"collection_recovery_fee\\\", 0.484799], [\\\"total_rec_prncp\\\", 0.215331], [\\\"out_prncp\\\", 0.213073], [\\\"out_prncp_inv\\\", 0.213051], [\\\"int_rate\\\", 0.19745], [\\\"last_pymnt_amnt\\\", 0.17483], [\\\"hardship_dpd\\\", 0.167094], [\\\"total_pymnt_inv\\\", 0.131384], [\\\"total_pymnt\\\", 0.131257], [\\\"sec_app_inq_last_6mths\\\", 0.100935], [\\\"total_rec_late_fee\\\", 0.096231], [\\\"acc_open_past_24mths\\\", 0.090577], [\\\"inq_last_6mths\\\", 0.087933], [\\\"settlement_percentage\\\", 0.084244], [\\\"bc_open_to_buy\\\", 0.083141], [\\\"num_tl_op_past_12m\\\", 0.082655], [\\\"percent_bc_gt_75\\\", 0.079182], [\\\"open_rv_24m\\\", 0.077411]]\"};\n",
       "        new ITable(table, dt_args);\n",
       "    });\n",
       "</script>\n"
      ],
      "text/plain": [
       "<IPython.core.display.HTML object>"
      ]
     },
     "metadata": {},
     "output_type": "display_data"
    }
   ],
   "source": [
    "num_cols = df.select_dtypes(include=[np.number]).columns\n",
    "corrs = df[num_cols.tolist()].corr()['target'].abs().sort_values(ascending=False)\n",
    "corr_df = corrs.reset_index().rename(columns={'index':'feature', 'target':'abs_corr'})\n",
    "tools.display_dataframe_to_user(\"univariate_correlations\", corr_df.head(20))"
   ]
  },
  {
   "cell_type": "code",
   "execution_count": 20,
   "id": "5eee8b9c",
   "metadata": {},
   "outputs": [
    {
     "name": "stdout",
     "output_type": "stream",
     "text": [
      "Status: Fully Paid\n",
      "Mean interest rate: 12.631070158702627\n",
      "\n",
      "Status: Current\n",
      "Mean interest rate: 12.769329869683238\n",
      "\n",
      "Status: Charged Off\n",
      "Mean interest rate: 15.736771913084963\n",
      "\n",
      "Status: Late (31-120 days)\n",
      "Mean interest rate: 15.781900359527478\n",
      "\n",
      "Status: In Grace Period\n",
      "Mean interest rate: 15.281126005361932\n",
      "\n",
      "Status: Late (16-30 days)\n",
      "Mean interest rate: 15.602477341389728\n",
      "\n",
      "Status: Does not meet the credit policy. Status:Fully Paid\n",
      "Mean interest rate: 13.840833333333336\n",
      "\n",
      "Status: Does not meet the credit policy. Status:Charged Off\n",
      "Mean interest rate: 14.369305555555554\n",
      "\n",
      "Status: Default\n",
      "Mean interest rate: 14.48\n",
      "\n"
     ]
    }
   ],
   "source": [
    "for label in loan_status_labels:\n",
    "\tavg_intr = df[df['loan_status'] == label]['int_rate'].mean()\n",
    "\tprint(f\"Status: {label}\\nMean interest rate: {avg_intr}\\n\")"
   ]
  },
  {
   "cell_type": "code",
   "execution_count": 21,
   "id": "531f3151",
   "metadata": {},
   "outputs": [],
   "source": [
    "num_cols = df.select_dtypes(include=[np.number]).columns.tolist()\n",
    "cat_cols = df.select_dtypes(include=['object']).columns.tolist()"
   ]
  },
  {
   "cell_type": "code",
   "execution_count": 87,
   "id": "c660b4a9",
   "metadata": {},
   "outputs": [
    {
     "name": "stdout",
     "output_type": "stream",
     "text": [
      "['loan_amnt', 'funded_amnt', 'funded_amnt_inv', 'int_rate', 'installment', 'annual_inc', 'dti', 'delinq_2yrs', 'inq_last_6mths', 'mths_since_last_delinq', 'mths_since_last_record', 'open_acc', 'pub_rec', 'revol_bal', 'revol_util', 'total_acc', 'out_prncp', 'out_prncp_inv', 'total_pymnt', 'total_pymnt_inv', 'total_rec_prncp', 'total_rec_int', 'total_rec_late_fee', 'recoveries', 'collection_recovery_fee', 'last_pymnt_amnt', 'collections_12_mths_ex_med', 'mths_since_last_major_derog', 'policy_code', 'annual_inc_joint', 'dti_joint', 'acc_now_delinq', 'tot_coll_amt', 'tot_cur_bal', 'open_acc_6m', 'open_act_il', 'open_il_12m', 'open_il_24m', 'mths_since_rcnt_il', 'total_bal_il', 'il_util', 'open_rv_12m', 'open_rv_24m', 'max_bal_bc', 'all_util', 'total_rev_hi_lim', 'inq_fi', 'total_cu_tl', 'inq_last_12m', 'acc_open_past_24mths', 'avg_cur_bal', 'bc_open_to_buy', 'bc_util', 'chargeoff_within_12_mths', 'delinq_amnt', 'mo_sin_old_il_acct', 'mo_sin_old_rev_tl_op', 'mo_sin_rcnt_rev_tl_op', 'mo_sin_rcnt_tl', 'mort_acc', 'mths_since_recent_bc', 'mths_since_recent_bc_dlq', 'mths_since_recent_inq', 'mths_since_recent_revol_delinq', 'num_accts_ever_120_pd', 'num_actv_bc_tl', 'num_actv_rev_tl', 'num_bc_sats', 'num_bc_tl', 'num_il_tl', 'num_op_rev_tl', 'num_rev_accts', 'num_rev_tl_bal_gt_0', 'num_sats', 'num_tl_120dpd_2m', 'num_tl_30dpd', 'num_tl_90g_dpd_24m', 'num_tl_op_past_12m', 'pct_tl_nvr_dlq', 'percent_bc_gt_75', 'pub_rec_bankruptcies', 'tax_liens', 'tot_hi_cred_lim', 'total_bal_ex_mort', 'total_bc_limit', 'total_il_high_credit_limit', 'revol_bal_joint', 'sec_app_inq_last_6mths', 'sec_app_mort_acc', 'sec_app_open_acc', 'sec_app_revol_util', 'sec_app_open_act_il', 'sec_app_num_rev_accts', 'sec_app_chargeoff_within_12_mths', 'sec_app_collections_12_mths_ex_med', 'sec_app_mths_since_last_major_derog', 'deferral_term', 'hardship_amount', 'hardship_length', 'hardship_dpd', 'orig_projected_additional_accrued_interest', 'hardship_payoff_balance_amount', 'hardship_last_payment_amount', 'settlement_amount', 'settlement_percentage', 'settlement_term', 'target'] ['term', 'grade', 'sub_grade', 'emp_length', 'home_ownership', 'verification_status', 'issue_d', 'loan_status', 'pymnt_plan', 'purpose', 'zip_code', 'addr_state', 'earliest_cr_line', 'initial_list_status', 'last_pymnt_d', 'next_pymnt_d', 'last_credit_pull_d', 'application_type', 'verification_status_joint', 'sec_app_earliest_cr_line', 'hardship_flag', 'hardship_type', 'hardship_reason', 'hardship_status', 'hardship_start_date', 'hardship_end_date', 'payment_plan_start_date', 'hardship_loan_status', 'disbursement_method', 'debt_settlement_flag', 'debt_settlement_flag_date', 'settlement_status', 'settlement_date']\n"
     ]
    }
   ],
   "source": [
    "print(num_cols, cat_cols)"
   ]
  },
  {
   "cell_type": "code",
   "execution_count": 23,
   "id": "a917855b",
   "metadata": {},
   "outputs": [
    {
     "name": "stdout",
     "output_type": "stream",
     "text": [
      "['mths_since_last_delinq', 'mths_since_last_record', 'next_pymnt_d', 'mths_since_last_major_derog', 'annual_inc_joint', 'dti_joint', 'verification_status_joint', 'mths_since_rcnt_il', 'il_util', 'mths_since_recent_bc_dlq', 'mths_since_recent_revol_delinq', 'revol_bal_joint', 'sec_app_earliest_cr_line', 'sec_app_inq_last_6mths', 'sec_app_mort_acc', 'sec_app_open_acc', 'sec_app_revol_util', 'sec_app_open_act_il', 'sec_app_num_rev_accts', 'sec_app_chargeoff_within_12_mths', 'sec_app_collections_12_mths_ex_med', 'sec_app_mths_since_last_major_derog', 'hardship_type', 'hardship_reason', 'hardship_status', 'deferral_term', 'hardship_amount', 'hardship_start_date', 'hardship_end_date', 'payment_plan_start_date', 'hardship_length', 'hardship_dpd', 'hardship_loan_status', 'orig_projected_additional_accrued_interest', 'hardship_payoff_balance_amount', 'hardship_last_payment_amount', 'debt_settlement_flag_date', 'settlement_status', 'settlement_date', 'settlement_amount', 'settlement_percentage', 'settlement_term']\n"
     ]
    }
   ],
   "source": [
    "null_percentages = df.isna().mean().mul(100)\n",
    "null_threshold = 40\n",
    "to_drop = null_percentages[null_percentages > null_threshold].index\n",
    "print(list(to_drop))"
   ]
  },
  {
   "cell_type": "code",
   "execution_count": 24,
   "id": "0dd86a05",
   "metadata": {},
   "outputs": [
    {
     "data": {
      "text/plain": [
       "(200000, 98)"
      ]
     },
     "execution_count": 24,
     "metadata": {},
     "output_type": "execute_result"
    }
   ],
   "source": [
    "df_cleaned = df.drop(columns=to_drop)\n",
    "df_cleaned.shape"
   ]
  },
  {
   "cell_type": "code",
   "execution_count": 25,
   "id": "4303f92a",
   "metadata": {},
   "outputs": [],
   "source": [
    "X = df_cleaned.drop(columns=['target'])\n",
    "y = df_cleaned['target']\n",
    "\n",
    "num_cols = X.select_dtypes(include=np.number).columns.tolist()\n",
    "cat_cols = X.select_dtypes(include='object').columns.tolist()"
   ]
  },
  {
   "cell_type": "code",
   "execution_count": 26,
   "id": "dfcc3e60",
   "metadata": {},
   "outputs": [],
   "source": [
    "num_transformer = Pipeline([(\"imputer\", SimpleImputer(strategy='median')), (\"scaler\", StandardScaler())])\n",
    "obj_transformer = Pipeline(\n",
    "    [\n",
    "        (\"imputer\", SimpleImputer(strategy=\"most_frequent\")),\n",
    "        (\n",
    "            \"ordinal\",\n",
    "            OrdinalEncoder(handle_unknown=\"use_encoded_value\", unknown_value=-1),\n",
    "        ),\n",
    "    ]\n",
    ")\n",
    "\n",
    "preprocessor = ColumnTransformer(\n",
    "    [\n",
    "        (\"num\", num_transformer, num_cols),\n",
    "        (\"cat\", obj_transformer, cat_cols),\n",
    "    ]\n",
    ")"
   ]
  },
  {
   "cell_type": "code",
   "execution_count": 27,
   "id": "3ea2c78d",
   "metadata": {},
   "outputs": [],
   "source": [
    "X_trans = preprocessor.fit_transform(X)"
   ]
  },
  {
   "cell_type": "code",
   "execution_count": 28,
   "id": "200acee4",
   "metadata": {},
   "outputs": [
    {
     "data": {
      "text/html": [
       "<style>#sk-container-id-1 {color: black;background-color: white;}#sk-container-id-1 pre{padding: 0;}#sk-container-id-1 div.sk-toggleable {background-color: white;}#sk-container-id-1 label.sk-toggleable__label {cursor: pointer;display: block;width: 100%;margin-bottom: 0;padding: 0.3em;box-sizing: border-box;text-align: center;}#sk-container-id-1 label.sk-toggleable__label-arrow:before {content: \"▸\";float: left;margin-right: 0.25em;color: #696969;}#sk-container-id-1 label.sk-toggleable__label-arrow:hover:before {color: black;}#sk-container-id-1 div.sk-estimator:hover label.sk-toggleable__label-arrow:before {color: black;}#sk-container-id-1 div.sk-toggleable__content {max-height: 0;max-width: 0;overflow: hidden;text-align: left;background-color: #f0f8ff;}#sk-container-id-1 div.sk-toggleable__content pre {margin: 0.2em;color: black;border-radius: 0.25em;background-color: #f0f8ff;}#sk-container-id-1 input.sk-toggleable__control:checked~div.sk-toggleable__content {max-height: 200px;max-width: 100%;overflow: auto;}#sk-container-id-1 input.sk-toggleable__control:checked~label.sk-toggleable__label-arrow:before {content: \"▾\";}#sk-container-id-1 div.sk-estimator input.sk-toggleable__control:checked~label.sk-toggleable__label {background-color: #d4ebff;}#sk-container-id-1 div.sk-label input.sk-toggleable__control:checked~label.sk-toggleable__label {background-color: #d4ebff;}#sk-container-id-1 input.sk-hidden--visually {border: 0;clip: rect(1px 1px 1px 1px);clip: rect(1px, 1px, 1px, 1px);height: 1px;margin: -1px;overflow: hidden;padding: 0;position: absolute;width: 1px;}#sk-container-id-1 div.sk-estimator {font-family: monospace;background-color: #f0f8ff;border: 1px dotted black;border-radius: 0.25em;box-sizing: border-box;margin-bottom: 0.5em;}#sk-container-id-1 div.sk-estimator:hover {background-color: #d4ebff;}#sk-container-id-1 div.sk-parallel-item::after {content: \"\";width: 100%;border-bottom: 1px solid gray;flex-grow: 1;}#sk-container-id-1 div.sk-label:hover label.sk-toggleable__label {background-color: #d4ebff;}#sk-container-id-1 div.sk-serial::before {content: \"\";position: absolute;border-left: 1px solid gray;box-sizing: border-box;top: 0;bottom: 0;left: 50%;z-index: 0;}#sk-container-id-1 div.sk-serial {display: flex;flex-direction: column;align-items: center;background-color: white;padding-right: 0.2em;padding-left: 0.2em;position: relative;}#sk-container-id-1 div.sk-item {position: relative;z-index: 1;}#sk-container-id-1 div.sk-parallel {display: flex;align-items: stretch;justify-content: center;background-color: white;position: relative;}#sk-container-id-1 div.sk-item::before, #sk-container-id-1 div.sk-parallel-item::before {content: \"\";position: absolute;border-left: 1px solid gray;box-sizing: border-box;top: 0;bottom: 0;left: 50%;z-index: -1;}#sk-container-id-1 div.sk-parallel-item {display: flex;flex-direction: column;z-index: 1;position: relative;background-color: white;}#sk-container-id-1 div.sk-parallel-item:first-child::after {align-self: flex-end;width: 50%;}#sk-container-id-1 div.sk-parallel-item:last-child::after {align-self: flex-start;width: 50%;}#sk-container-id-1 div.sk-parallel-item:only-child::after {width: 0;}#sk-container-id-1 div.sk-dashed-wrapped {border: 1px dashed gray;margin: 0 0.4em 0.5em 0.4em;box-sizing: border-box;padding-bottom: 0.4em;background-color: white;}#sk-container-id-1 div.sk-label label {font-family: monospace;font-weight: bold;display: inline-block;line-height: 1.2em;}#sk-container-id-1 div.sk-label-container {text-align: center;}#sk-container-id-1 div.sk-container {/* jupyter's `normalize.less` sets `[hidden] { display: none; }` but bootstrap.min.css set `[hidden] { display: none !important; }` so we also need the `!important` here to be able to override the default hidden behavior on the sphinx rendered scikit-learn.org. See: https://github.com/scikit-learn/scikit-learn/issues/21755 */display: inline-block !important;position: relative;}#sk-container-id-1 div.sk-text-repr-fallback {display: none;}</style><div id=\"sk-container-id-1\" class=\"sk-top-container\"><div class=\"sk-text-repr-fallback\"><pre>RandomForestClassifier(n_jobs=-1, random_state=42)</pre><b>In a Jupyter environment, please rerun this cell to show the HTML representation or trust the notebook. <br />On GitHub, the HTML representation is unable to render, please try loading this page with nbviewer.org.</b></div><div class=\"sk-container\" hidden><div class=\"sk-item\"><div class=\"sk-estimator sk-toggleable\"><input class=\"sk-toggleable__control sk-hidden--visually\" id=\"sk-estimator-id-1\" type=\"checkbox\" checked><label for=\"sk-estimator-id-1\" class=\"sk-toggleable__label sk-toggleable__label-arrow\">RandomForestClassifier</label><div class=\"sk-toggleable__content\"><pre>RandomForestClassifier(n_jobs=-1, random_state=42)</pre></div></div></div></div></div>"
      ],
      "text/plain": [
       "RandomForestClassifier(n_jobs=-1, random_state=42)"
      ]
     },
     "execution_count": 28,
     "metadata": {},
     "output_type": "execute_result"
    }
   ],
   "source": [
    "rf = RandomForestClassifier(random_state=42, n_estimators=100, n_jobs=-1)\n",
    "rf.fit(X_trans, y)"
   ]
  },
  {
   "cell_type": "code",
   "execution_count": 29,
   "id": "41d25806",
   "metadata": {},
   "outputs": [],
   "source": [
    "ordinal = preprocessor.named_transformers_['cat'].named_steps['ordinal']\n",
    "ordinal_cols = ordinal.get_feature_names_out(cat_cols).tolist()\n",
    "all_features = num_cols + ordinal_cols"
   ]
  },
  {
   "cell_type": "code",
   "execution_count": 30,
   "id": "8cf08528",
   "metadata": {},
   "outputs": [
    {
     "name": "stdout",
     "output_type": "stream",
     "text": [
      "model_feature_importances\n"
     ]
    },
    {
     "data": {
      "text/html": [
       "<!--| quarto-html-table-processing: none -->\n",
       "<table id=\"itables_ee5e28e0_dd34_41e3_a9ba_70f0ce6047ac\"><tbody><tr>\n",
       "    <td style=\"vertical-align:middle; text-align:left\">\n",
       "    <a href=https://mwouts.github.io/itables/><svg class=\"main-svg\" xmlns=\"http://www.w3.org/2000/svg\" xmlns:xlink=\"http://www.w3.org/1999/xlink\"\n",
       "width=\"64\" viewBox=\"0 0 500 400\" style=\"font-family: 'Droid Sans', sans-serif;\">\n",
       "    <g style=\"fill:#d9d7fc\">\n",
       "        <path d=\"M100,400H500V357H100Z\" />\n",
       "        <path d=\"M100,300H400V257H100Z\" />\n",
       "        <path d=\"M0,200H400V157H0Z\" />\n",
       "        <path d=\"M100,100H500V57H100Z\" />\n",
       "        <path d=\"M100,350H500V307H100Z\" />\n",
       "        <path d=\"M100,250H400V207H100Z\" />\n",
       "        <path d=\"M0,150H400V107H0Z\" />\n",
       "        <path d=\"M100,50H500V7H100Z\" />\n",
       "    </g>\n",
       "    <g style=\"fill:#1a1366;stroke:#1a1366;\">\n",
       "   <rect x=\"100\" y=\"7\" width=\"400\" height=\"43\">\n",
       "    <animate\n",
       "      attributeName=\"width\"\n",
       "      values=\"0;400;0\"\n",
       "      dur=\"5s\"\n",
       "      repeatCount=\"indefinite\" />\n",
       "      <animate\n",
       "      attributeName=\"x\"\n",
       "      values=\"100;100;500\"\n",
       "      dur=\"5s\"\n",
       "      repeatCount=\"indefinite\" />\n",
       "  </rect>\n",
       "        <rect x=\"0\" y=\"107\" width=\"400\" height=\"43\">\n",
       "    <animate\n",
       "      attributeName=\"width\"\n",
       "      values=\"0;400;0\"\n",
       "      dur=\"3.5s\"\n",
       "      repeatCount=\"indefinite\" />\n",
       "    <animate\n",
       "      attributeName=\"x\"\n",
       "      values=\"0;0;400\"\n",
       "      dur=\"3.5s\"\n",
       "      repeatCount=\"indefinite\" />\n",
       "  </rect>\n",
       "        <rect x=\"100\" y=\"207\" width=\"300\" height=\"43\">\n",
       "    <animate\n",
       "      attributeName=\"width\"\n",
       "      values=\"0;300;0\"\n",
       "      dur=\"3s\"\n",
       "      repeatCount=\"indefinite\" />\n",
       "    <animate\n",
       "      attributeName=\"x\"\n",
       "      values=\"100;100;400\"\n",
       "      dur=\"3s\"\n",
       "      repeatCount=\"indefinite\" />\n",
       "  </rect>\n",
       "        <rect x=\"100\" y=\"307\" width=\"400\" height=\"43\">\n",
       "    <animate\n",
       "      attributeName=\"width\"\n",
       "      values=\"0;400;0\"\n",
       "      dur=\"4s\"\n",
       "      repeatCount=\"indefinite\" />\n",
       "      <animate\n",
       "      attributeName=\"x\"\n",
       "      values=\"100;100;500\"\n",
       "      dur=\"4s\"\n",
       "      repeatCount=\"indefinite\" />\n",
       "  </rect>\n",
       "        <g style=\"fill:transparent;stroke-width:8; stroke-linejoin:round\" rx=\"5\">\n",
       "            <g transform=\"translate(45 50) rotate(-45)\">\n",
       "                <circle r=\"33\" cx=\"0\" cy=\"0\" />\n",
       "                <rect x=\"-8\" y=\"32\" width=\"16\" height=\"30\" />\n",
       "            </g>\n",
       "\n",
       "            <g transform=\"translate(450 152)\">\n",
       "                <polyline points=\"-15,-20 -35,-20 -35,40 25,40 25,20\" />\n",
       "                <rect x=\"-15\" y=\"-40\" width=\"60\" height=\"60\" />\n",
       "            </g>\n",
       "\n",
       "            <g transform=\"translate(50 352)\">\n",
       "                <polygon points=\"-35,-5 0,-40 35,-5\" />\n",
       "                <polygon points=\"-35,10 0,45 35,10\" />\n",
       "            </g>\n",
       "\n",
       "            <g transform=\"translate(75 250)\">\n",
       "                <polyline points=\"-30,30 -60,0 -30,-30\" />\n",
       "                <polyline points=\"0,30 -30,0 0,-30\" />\n",
       "            </g>\n",
       "\n",
       "            <g transform=\"translate(425 250) rotate(180)\">\n",
       "                <polyline points=\"-30,30 -60,0 -30,-30\" />\n",
       "                <polyline points=\"0,30 -30,0 0,-30\" />\n",
       "            </g>\n",
       "        </g>\n",
       "    </g>\n",
       "</svg>\n",
       "</a>\n",
       "    Loading ITables v2.4.2 from the internet...\n",
       "    (need <a href=https://mwouts.github.io/itables/troubleshooting.html>help</a>?)</td>\n",
       "    </tr></tbody></table>\n",
       "<link href=\"https://www.unpkg.com/dt_for_itables@2.3.3/dt_bundle.css\" rel=\"stylesheet\">\n",
       "<script type=\"module\">\n",
       "    import { ITable, jQuery as $ } from 'https://www.unpkg.com/dt_for_itables@2.3.3/dt_bundle.js';\n",
       "\n",
       "    document.querySelectorAll(\"#itables_ee5e28e0_dd34_41e3_a9ba_70f0ce6047ac:not(.dataTable)\").forEach(table => {\n",
       "        if (!(table instanceof HTMLTableElement))\n",
       "            return;\n",
       "\n",
       "        let dt_args = {\"layout\": {\"topStart\": \"pageLength\", \"topEnd\": \"search\", \"bottomStart\": \"info\", \"bottomEnd\": \"paging\"}, \"style\": {\"table-layout\": \"auto\", \"width\": \"auto\", \"margin\": \"auto\", \"caption-side\": \"bottom\"}, \"order\": [], \"text_in_header_can_be_selected\": true, \"classes\": [\"display\", \"nowrap\"], \"table_html\": \"<table><thead>\\n    <tr style=\\\"text-align: right;\\\">\\n      \\n      <th>feature</th>\\n      <th>importance</th>\\n    </tr>\\n  </thead></table>\", \"data_json\": \"[[\\\"loan_status\\\", 0.372325], [\\\"recoveries\\\", 0.187871], [\\\"collection_recovery_fee\\\", 0.14496], [\\\"total_rec_prncp\\\", 0.044406], [\\\"out_prncp_inv\\\", 0.038393], [\\\"out_prncp\\\", 0.03146], [\\\"last_pymnt_amnt\\\", 0.028288], [\\\"funded_amnt\\\", 0.017959], [\\\"debt_settlement_flag\\\", 0.016221], [\\\"funded_amnt_inv\\\", 0.012547], [\\\"total_pymnt_inv\\\", 0.011899], [\\\"installment\\\", 0.011758], [\\\"total_pymnt\\\", 0.010886], [\\\"last_credit_pull_d\\\", 0.010319], [\\\"last_pymnt_d\\\", 0.009488], [\\\"loan_amnt\\\", 0.00845], [\\\"sub_grade\\\", 0.005324], [\\\"grade\\\", 0.003858], [\\\"total_rec_int\\\", 0.003552], [\\\"int_rate\\\", 0.003043]]\"};\n",
       "        new ITable(table, dt_args);\n",
       "    });\n",
       "</script>\n"
      ],
      "text/plain": [
       "<IPython.core.display.HTML object>"
      ]
     },
     "metadata": {},
     "output_type": "display_data"
    }
   ],
   "source": [
    "importances = rf.feature_importances_\n",
    "imp_series = pd.Series(importances, index=all_features).sort_values(ascending=False)\n",
    "imp_df = imp_series.reset_index().rename(columns={'index':'feature', 0:'importance'})\n",
    "tools.display_dataframe_to_user(\"model_feature_importances\", imp_df.head(20))"
   ]
  },
  {
   "cell_type": "code",
   "execution_count": 31,
   "id": "756da69c",
   "metadata": {},
   "outputs": [
    {
     "name": "stdout",
     "output_type": "stream",
     "text": [
      "selected_features\n"
     ]
    },
    {
     "data": {
      "text/html": [
       "<!--| quarto-html-table-processing: none -->\n",
       "<table id=\"itables_df5ce091_224e_4d30_8993_b4407c09a2f8\"><tbody><tr>\n",
       "    <td style=\"vertical-align:middle; text-align:left\">\n",
       "    <a href=https://mwouts.github.io/itables/><svg class=\"main-svg\" xmlns=\"http://www.w3.org/2000/svg\" xmlns:xlink=\"http://www.w3.org/1999/xlink\"\n",
       "width=\"64\" viewBox=\"0 0 500 400\" style=\"font-family: 'Droid Sans', sans-serif;\">\n",
       "    <g style=\"fill:#d9d7fc\">\n",
       "        <path d=\"M100,400H500V357H100Z\" />\n",
       "        <path d=\"M100,300H400V257H100Z\" />\n",
       "        <path d=\"M0,200H400V157H0Z\" />\n",
       "        <path d=\"M100,100H500V57H100Z\" />\n",
       "        <path d=\"M100,350H500V307H100Z\" />\n",
       "        <path d=\"M100,250H400V207H100Z\" />\n",
       "        <path d=\"M0,150H400V107H0Z\" />\n",
       "        <path d=\"M100,50H500V7H100Z\" />\n",
       "    </g>\n",
       "    <g style=\"fill:#1a1366;stroke:#1a1366;\">\n",
       "   <rect x=\"100\" y=\"7\" width=\"400\" height=\"43\">\n",
       "    <animate\n",
       "      attributeName=\"width\"\n",
       "      values=\"0;400;0\"\n",
       "      dur=\"5s\"\n",
       "      repeatCount=\"indefinite\" />\n",
       "      <animate\n",
       "      attributeName=\"x\"\n",
       "      values=\"100;100;500\"\n",
       "      dur=\"5s\"\n",
       "      repeatCount=\"indefinite\" />\n",
       "  </rect>\n",
       "        <rect x=\"0\" y=\"107\" width=\"400\" height=\"43\">\n",
       "    <animate\n",
       "      attributeName=\"width\"\n",
       "      values=\"0;400;0\"\n",
       "      dur=\"3.5s\"\n",
       "      repeatCount=\"indefinite\" />\n",
       "    <animate\n",
       "      attributeName=\"x\"\n",
       "      values=\"0;0;400\"\n",
       "      dur=\"3.5s\"\n",
       "      repeatCount=\"indefinite\" />\n",
       "  </rect>\n",
       "        <rect x=\"100\" y=\"207\" width=\"300\" height=\"43\">\n",
       "    <animate\n",
       "      attributeName=\"width\"\n",
       "      values=\"0;300;0\"\n",
       "      dur=\"3s\"\n",
       "      repeatCount=\"indefinite\" />\n",
       "    <animate\n",
       "      attributeName=\"x\"\n",
       "      values=\"100;100;400\"\n",
       "      dur=\"3s\"\n",
       "      repeatCount=\"indefinite\" />\n",
       "  </rect>\n",
       "        <rect x=\"100\" y=\"307\" width=\"400\" height=\"43\">\n",
       "    <animate\n",
       "      attributeName=\"width\"\n",
       "      values=\"0;400;0\"\n",
       "      dur=\"4s\"\n",
       "      repeatCount=\"indefinite\" />\n",
       "      <animate\n",
       "      attributeName=\"x\"\n",
       "      values=\"100;100;500\"\n",
       "      dur=\"4s\"\n",
       "      repeatCount=\"indefinite\" />\n",
       "  </rect>\n",
       "        <g style=\"fill:transparent;stroke-width:8; stroke-linejoin:round\" rx=\"5\">\n",
       "            <g transform=\"translate(45 50) rotate(-45)\">\n",
       "                <circle r=\"33\" cx=\"0\" cy=\"0\" />\n",
       "                <rect x=\"-8\" y=\"32\" width=\"16\" height=\"30\" />\n",
       "            </g>\n",
       "\n",
       "            <g transform=\"translate(450 152)\">\n",
       "                <polyline points=\"-15,-20 -35,-20 -35,40 25,40 25,20\" />\n",
       "                <rect x=\"-15\" y=\"-40\" width=\"60\" height=\"60\" />\n",
       "            </g>\n",
       "\n",
       "            <g transform=\"translate(50 352)\">\n",
       "                <polygon points=\"-35,-5 0,-40 35,-5\" />\n",
       "                <polygon points=\"-35,10 0,45 35,10\" />\n",
       "            </g>\n",
       "\n",
       "            <g transform=\"translate(75 250)\">\n",
       "                <polyline points=\"-30,30 -60,0 -30,-30\" />\n",
       "                <polyline points=\"0,30 -30,0 0,-30\" />\n",
       "            </g>\n",
       "\n",
       "            <g transform=\"translate(425 250) rotate(180)\">\n",
       "                <polyline points=\"-30,30 -60,0 -30,-30\" />\n",
       "                <polyline points=\"0,30 -30,0 0,-30\" />\n",
       "            </g>\n",
       "        </g>\n",
       "    </g>\n",
       "</svg>\n",
       "</a>\n",
       "    Loading ITables v2.4.2 from the internet...\n",
       "    (need <a href=https://mwouts.github.io/itables/troubleshooting.html>help</a>?)</td>\n",
       "    </tr></tbody></table>\n",
       "<link href=\"https://www.unpkg.com/dt_for_itables@2.3.3/dt_bundle.css\" rel=\"stylesheet\">\n",
       "<script type=\"module\">\n",
       "    import { ITable, jQuery as $ } from 'https://www.unpkg.com/dt_for_itables@2.3.3/dt_bundle.js';\n",
       "\n",
       "    document.querySelectorAll(\"#itables_df5ce091_224e_4d30_8993_b4407c09a2f8:not(.dataTable)\").forEach(table => {\n",
       "        if (!(table instanceof HTMLTableElement))\n",
       "            return;\n",
       "\n",
       "        let dt_args = {\"layout\": {\"topStart\": \"pageLength\", \"topEnd\": \"search\", \"bottomStart\": \"info\", \"bottomEnd\": \"paging\"}, \"style\": {\"table-layout\": \"auto\", \"width\": \"auto\", \"margin\": \"auto\", \"caption-side\": \"bottom\"}, \"order\": [], \"text_in_header_can_be_selected\": true, \"classes\": [\"display\", \"nowrap\"], \"table_html\": \"<table><thead>\\n    <tr style=\\\"text-align: right;\\\">\\n      \\n      <th>feature</th>\\n    </tr>\\n  </thead></table>\", \"data_json\": \"[[\\\"funded_amnt\\\"], [\\\"funded_amnt_inv\\\"], [\\\"installment\\\"], [\\\"out_prncp\\\"], [\\\"out_prncp_inv\\\"], [\\\"total_pymnt\\\"], [\\\"total_pymnt_inv\\\"], [\\\"total_rec_prncp\\\"], [\\\"recoveries\\\"], [\\\"collection_recovery_fee\\\"], [\\\"last_pymnt_amnt\\\"], [\\\"loan_status\\\"], [\\\"last_credit_pull_d\\\"], [\\\"debt_settlement_flag\\\"]]\"};\n",
       "        new ITable(table, dt_args);\n",
       "    });\n",
       "</script>\n"
      ],
      "text/plain": [
       "<IPython.core.display.HTML object>"
      ]
     },
     "metadata": {},
     "output_type": "display_data"
    }
   ],
   "source": [
    "selector = SelectFromModel(rf, threshold='mean', prefit=True)\n",
    "selected_idx = selector.get_support(indices=True)\n",
    "selected_feats = [all_features[i] for i in selected_idx]\n",
    "tools.display_dataframe_to_user(\"selected_features\", pd.DataFrame({'feature': selected_feats}))"
   ]
  },
  {
   "cell_type": "code",
   "execution_count": 32,
   "id": "fa722cdf",
   "metadata": {},
   "outputs": [
    {
     "data": {
      "image/png": "[encoded data removed]",
      "text/plain": [
       "<Figure size 640x480 with 1 Axes>"
      ]
     },
     "metadata": {},
     "output_type": "display_data"
    }
   ],
   "source": [
    "top10 = imp_series.head(10)\n",
    "plt.figure()\n",
    "plt.barh(top10.index[::-1], top10.values[::-1])\n",
    "plt.xlabel(\"Importance\")\n",
    "plt.title(\"Top 10 Features by Importance\")\n",
    "plt.tight_layout()\n",
    "plt.show()"
   ]
  },
  {
   "cell_type": "code",
   "execution_count": 33,
   "id": "109f8fa0",
   "metadata": {},
   "outputs": [
    {
     "data": {
      "text/plain": [
       "0         debt_consolidation\n",
       "1           home_improvement\n",
       "2         debt_consolidation\n",
       "3             major_purchase\n",
       "4         debt_consolidation\n",
       "                 ...        \n",
       "199995    debt_consolidation\n",
       "199996    debt_consolidation\n",
       "199997    debt_consolidation\n",
       "199998    debt_consolidation\n",
       "199999    debt_consolidation\n",
       "Name: purpose, Length: 200000, dtype: object"
      ]
     },
     "execution_count": 33,
     "metadata": {},
     "output_type": "execute_result"
    }
   ],
   "source": [
    "X['purpose']"
   ]
  }
 ],
 "metadata": {
  "kernelspec": {
   "display_name": "base",
   "language": "python",
   "name": "python3"
  },
  "language_info": {
   "codemirror_mode": {
    "name": "ipython",
    "version": 3
   },
   "file_extension": ".py",
   "mimetype": "text/x-python",
   "name": "python",
   "nbconvert_exporter": "python",
   "pygments_lexer": "ipython3",
   "version": "3.11.7"
  }
 },
 "nbformat": 4,
 "nbformat_minor": 5
}
